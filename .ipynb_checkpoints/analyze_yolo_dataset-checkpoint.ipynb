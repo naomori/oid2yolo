{
 "cells": [
  {
   "cell_type": "code",
   "execution_count": 4,
   "metadata": {},
   "outputs": [
    {
     "name": "stdout",
     "output_type": "stream",
     "text": [
      "Collecting seaborn\n",
      "  Downloading seaborn-0.10.1-py3-none-any.whl (215 kB)\n",
      "\u001b[K     |████████████████████████████████| 215 kB 8.0 MB/s eta 0:00:01\n",
      "\u001b[?25hRequirement already satisfied: matplotlib>=2.1.2 in /opt/conda/lib/python3.6/site-packages (from seaborn) (3.2.1)\n",
      "Requirement already satisfied: scipy>=1.0.1 in /opt/conda/lib/python3.6/site-packages (from seaborn) (1.4.1)\n",
      "Requirement already satisfied: pandas>=0.22.0 in /opt/conda/lib/python3.6/site-packages (from seaborn) (0.24.2)\n",
      "Requirement already satisfied: numpy>=1.13.3 in /opt/conda/lib/python3.6/site-packages (from seaborn) (1.18.1)\n",
      "Requirement already satisfied: pyparsing!=2.0.4,!=2.1.2,!=2.1.6,>=2.0.1 in /opt/conda/lib/python3.6/site-packages (from matplotlib>=2.1.2->seaborn) (2.4.6)\n",
      "Requirement already satisfied: python-dateutil>=2.1 in /opt/conda/lib/python3.6/site-packages (from matplotlib>=2.1.2->seaborn) (2.8.1)\n",
      "Requirement already satisfied: kiwisolver>=1.0.1 in /opt/conda/lib/python3.6/site-packages (from matplotlib>=2.1.2->seaborn) (1.1.0)\n",
      "Requirement already satisfied: cycler>=0.10 in /opt/conda/lib/python3.6/site-packages (from matplotlib>=2.1.2->seaborn) (0.10.0)\n",
      "Requirement already satisfied: pytz>=2011k in /opt/conda/lib/python3.6/site-packages (from pandas>=0.22.0->seaborn) (2019.3)\n",
      "Requirement already satisfied: six>=1.5 in /opt/conda/lib/python3.6/site-packages (from python-dateutil>=2.1->matplotlib>=2.1.2->seaborn) (1.14.0)\n",
      "Requirement already satisfied: setuptools in /opt/conda/lib/python3.6/site-packages (from kiwisolver>=1.0.1->matplotlib>=2.1.2->seaborn) (45.2.0.post20200210)\n",
      "Installing collected packages: seaborn\n",
      "Successfully installed seaborn-0.10.1\n"
     ]
    }
   ],
   "source": [
    "!pip install seaborn"
   ]
  },
  {
   "cell_type": "code",
   "execution_count": 20,
   "metadata": {},
   "outputs": [],
   "source": [
    "import os\n",
    "import glob\n",
    "import re\n",
    "import pandas as pd\n",
    "import concurrent.futures\n",
    "from concurrent.futures import ProcessPoolExecutor\n",
    "from more_itertools import chunked\n",
    "\n",
    "import seaborn as sns\n",
    "import matplotlib.pyplot as plt"
   ]
  },
  {
   "cell_type": "code",
   "execution_count": 21,
   "metadata": {},
   "outputs": [],
   "source": [
    "oid_path = \"./oid\""
   ]
  },
  {
   "cell_type": "code",
   "execution_count": 22,
   "metadata": {},
   "outputs": [],
   "source": [
    "oid_class_csv = oid_path + '/class-descriptions-boxable.csv'\n",
    "\n",
    "class_names = ['Human face', 'Vehicle registration plate']\n",
    "df_all_classes = pd.read_csv(oid_class_csv, names=['LabelName', 'ClassName'])\n",
    "df_classes = df_all_classes[df_all_classes['ClassName'].isin(class_names)].copy()\n",
    "df_classes['order'] = df_classes['ClassName'].apply(lambda x: class_names.index(x))\n",
    "df_classes.sort_values('order', inplace=True)\n",
    "df_classes.reset_index(drop=True, inplace=True)\n",
    "df_classes.drop(columns='order', inplace=True)"
   ]
  },
  {
   "cell_type": "code",
   "execution_count": 23,
   "metadata": {},
   "outputs": [],
   "source": [
    "org_train_csv = oid_path + '/oidv6-train-annotations-bbox.csv'\n",
    "org_val_csv = oid_path + '/validation-annotations-bbox.csv'\n",
    "org_test_csv = oid_path + '/test-annotations-bbox.csv'"
   ]
  },
  {
   "cell_type": "code",
   "execution_count": null,
   "metadata": {},
   "outputs": [],
   "source": [
    "class_filter =  [\n",
    "    [\"Vehicle registration plate\"],\n",
    "    [\"Human face\", \"Car\"],\n",
    "    [\"Human face\", \"Vehicle\"],\n",
    "    [\"Human face\", \"Land vehicle\"],\n",
    "    [\"Human face\", \"Truck\"],\n",
    "    [\"Human face\", \"Bus\"],\n",
    "    [\"Human face\", \"Van\"],\n",
    "    [\"Human face\", \"Ambulance\"],\n",
    "    [\"Human face\", \"Limousine\"],\n",
    "    [\"Human face\", \"Taxi\"],\n",
    "    [\"Human face\", \"Bicycle\"],\n",
    "    [\"Human face\", \"Bicycle wheel\"],\n",
    "    [\"Human face\", \"Bicycle helmet\"],\n",
    "    [\"Human face\", \"Motorcycle\"],\n",
    "    [\"Human face\", \"Snowmobile\"],\n",
    "    [\"Human face\", \"Jet ski\"],\n",
    "    [\"Human face\", \"Golf cart\"],\n",
    "    [\"Human face\", \"Traffic light\"],\n",
    "    [\"Human face\", \"Traffic sign\"],\n",
    "    [\"Human face\", \"Stop sign\"],\n",
    "    [\"Human face\", \"Parking meter\"],\n",
    "    [\"Human face\", \"Tire\"],\n",
    "    [\"Human face\", \"Cart\"],\n",
    "    [\"Human face\", \"Street light\"],\n",
    "    [\"Human face\", \"Wheel\"],\n",
    "    [\"Human face\", \"Unicycle\"],\n",
    "    [\"Human face\", \"Helicopter\"],\n",
    "    [\"Human face\", \"Airplane\"],\n",
    "    [\"Human face\", \"Aircraft\"],\n",
    "    [\"Human face\", \"Skateboard\"],\n",
    "    [\"Human face\", \"Snowboard\"],\n",
    "    [\"Human face\", \"Ski\"],\n",
    "    [\"Human face\", \"Wheel\"],\n",
    "    [\"Human face\", \"Wheelchair\"],\n",
    "    [\"Human face\", \"Boat\"],\n",
    "    [\"Human face\", \"Canoe\"],\n",
    "    [\"Human face\", \"Barge\"],\n",
    "    [\"Human face\", \"Surfboard\"],\n",
    "    [\"Human face\", \"Billboard\"],\n",
    "    [\"Human face\", \"Carnivore\"],\n",
    "    [\"Human face\", \"Fire hydrant\"],\n",
    "    [\"Human face\", \"Office building\"],\n",
    "    [\"Human face\", \"Fountain\"],\n",
    "    [\"Human face\", \"Christmas tree\"],\n",
    "    [\"Human face\", \"Hiking equipment\"],\n",
    "    [\"Human face\", \"Stretcher\"],\n",
    "    [\"Human face\", \"Roller skates\"],\n",
    "    [\"Human face\", \"Sun hat\"],\n",
    "    [\"Human face\", \"Helmet\"],\n",
    "    [\"Human face\", \"Sunglasses\"],\n",
    "    [\"Human face\", \"Tree house\"],\n",
    "    [\"Human face\", \"Mobile phone\"],\n",
    "    [\"Human face\", \"Briefcase\"],\n",
    "    [\"Human face\", \"Picnic basket\"],\n",
    "    [\"Human face\", \"Bench\"]]"
   ]
  },
  {
   "cell_type": "code",
   "execution_count": null,
   "metadata": {},
   "outputs": [],
   "source": [
    "def split_last_df_image(df):\n",
    "    df_image = df.groupby(\"ImageID\")\n",
    "    last_image_id = df.tail(1)[\"ImageID\"]\n",
    "    last_group = df_image.get_group(*last_image_id)\n",
    "    last_group_len = len(last_group)\n",
    "    if last_group_len < len(df):\n",
    "        df.drop(df.tail(last_group_len).index, inplace=True)\n",
    "    df_all = df\n",
    "    df_rest = last_group\n",
    "    return df_all, df_rest"
   ]
  },
  {
   "cell_type": "code",
   "execution_count": null,
   "metadata": {},
   "outputs": [],
   "source": [
    "def apply_image_filter(df_all, class_filter, df_labels):\n",
    "    return df_all.groupby(\"ImageID\", as_index=False).apply(image_filter_func,\n",
    "                                                           class_filter=class_filter,\n",
    "                                                           required_labels=df_labels.values)"
   ]
  },
  {
   "cell_type": "code",
   "execution_count": null,
   "metadata": {},
   "outputs": [],
   "source": [
    "def read_csv_chunk(csv_file):\n",
    "    futures = []\n",
    "    with ProcessPoolExecutor(max_workers=os.cpu_count()) as executor:\n",
    "        need_columns = [\"ImageID\", \"LabelName\"]\n",
    "        for index, df_bbox in enumerate(pd.read_csv(csv_file, header=0, usecols=need_columns, chunksize=50000))\n",
    "            df, df_last = split_last_df_image(df_bbox)\n",
    "            if df_rest is not None:\n",
    "                df = pd.concat([df_rest, df])\n",
    "            df_rest = df_last\n",
    "            if index == 0:\n",
    "                df = apply_image_filter(df, label_filter, df_classes[\"LabelName\"])\n",
    "                df.to_csv(new_oid_bbox_csv, header=True, index=False)\n",
    "            else:\n",
    "                future = executor.submit(apply_image_filter, df, label_filter, df_classes[\"LabelName\"])\n",
    "                futures.append(future)\n",
    "\n",
    "    concurrent.futures.wait(futures, timeout=None)\n",
    "    df_list = [future.result() for future in concurrent.futures.as_completed(futures)]\n",
    "    df_all = pd.DataFrame(data=None)\n",
    "    for df in df_list:\n",
    "        df_all = pd.concat([df_all, df])\n",
    "    return df_all"
   ]
  },
  {
   "cell_type": "code",
   "execution_count": null,
   "metadata": {},
   "outputs": [],
   "source": [
    "need_columns = [\"ImageID\", \"LabelName\"]\n",
    "df_org_train = pd.read_csv(org_train_csv, header=0, usecols=need_columns)\n",
    "df_org_train['ClassName'] = df_org_train['LabelName'].agg(\n",
    "    lambda x: df_all_classes.loc[df_all_classes[df_all_classes['LabelName'] == x].index[0], \"ClassName\"])"
   ]
  },
  {
   "cell_type": "code",
   "execution_count": null,
   "metadata": {},
   "outputs": [],
   "source": [
    "display(df_oid_all[\"ClassName\"].value_counts())\n",
    "display(df_oid_all[\"ClassName\"].value_counts(normalize=True))\n",
    "print(f\"the number of images: {len(df_oid_all.index.unique())}\")"
   ]
  },
  {
   "cell_type": "code",
   "execution_count": null,
   "metadata": {},
   "outputs": [],
   "source": []
  },
  {
   "cell_type": "code",
   "execution_count": null,
   "metadata": {},
   "outputs": [],
   "source": []
  },
  {
   "cell_type": "code",
   "execution_count": 6,
   "metadata": {},
   "outputs": [],
   "source": [
    "oid_train_csv = oid_path + '/oidv6-train-annotations-bbox_selected.csv'\n",
    "oid_val_csv = oid_path + '/validation-annotations-bbox_selected.csv'\n",
    "oid_test_csv = oid_path + '/test-annotations-bbox_selected.csv'"
   ]
  },
  {
   "cell_type": "code",
   "execution_count": 42,
   "metadata": {},
   "outputs": [],
   "source": [
    "df_oid_train = pd.read_csv(oid_train_csv, header=0)\n",
    "df_oid_train['set'] = 'train'\n",
    "df_oid_val = pd.read_csv(oid_val_csv, header=0)\n",
    "df_oid_val['set'] = 'val'\n",
    "df_oid_test = pd.read_csv(oid_test_csv, header=0)\n",
    "df_oid_test['set'] = 'test'\n",
    "df_oid_all = pd.concat([df_oid_train, df_oid_val, df_oid_test])\n",
    "\n",
    "df_oid_all['ClassName'] = df_oid_all['LabelName'].agg(\n",
    "    lambda x: df_classes.loc[df_classes[df_classes['LabelName'] == x].index[0], \"ClassName\"])"
   ]
  },
  {
   "cell_type": "code",
   "execution_count": 43,
   "metadata": {},
   "outputs": [],
   "source": [
    "class_order = [\"Human face\", \"Vehicle registration plate\"]"
   ]
  },
  {
   "cell_type": "code",
   "execution_count": 44,
   "metadata": {},
   "outputs": [
    {
     "data": {
      "text/plain": [
       "Human face                    77750\n",
       "Vehicle registration plate    11682\n",
       "Name: ClassName, dtype: int64"
      ]
     },
     "metadata": {},
     "output_type": "display_data"
    },
    {
     "data": {
      "text/plain": [
       "Human face                    0.869376\n",
       "Vehicle registration plate    0.130624\n",
       "Name: ClassName, dtype: float64"
      ]
     },
     "metadata": {},
     "output_type": "display_data"
    },
    {
     "name": "stdout",
     "output_type": "stream",
     "text": [
      "the number of images: 37310\n"
     ]
    },
    {
     "data": {
      "image/png": "[encoded data removed]",
      "text/plain": [
       "<Figure size 360x360 with 1 Axes>"
      ]
     },
     "metadata": {
      "needs_background": "light"
     },
     "output_type": "display_data"
    }
   ],
   "source": [
    "df_oid_all = df_oid_all.set_index(\"ImageID\")\n",
    "display(df_oid_all[\"ClassName\"].value_counts())\n",
    "display(df_oid_all[\"ClassName\"].value_counts(normalize=True))\n",
    "print(f\"the number of images: {len(df_oid_all.index.unique())}\")\n",
    "sns.catplot(data=df_oid_all, x=\"ClassName\", kind=\"count\", order=class_order)\n",
    "plt.show()"
   ]
  },
  {
   "cell_type": "code",
   "execution_count": 48,
   "metadata": {},
   "outputs": [
    {
     "data": {
      "text/plain": [
       "Human face                    69185\n",
       "Vehicle registration plate     7852\n",
       "Name: ClassName, dtype: int64"
      ]
     },
     "metadata": {},
     "output_type": "display_data"
    },
    {
     "data": {
      "text/plain": [
       "Human face                    0.898075\n",
       "Vehicle registration plate    0.101925\n",
       "Name: ClassName, dtype: float64"
      ]
     },
     "metadata": {},
     "output_type": "display_data"
    },
    {
     "name": "stdout",
     "output_type": "stream",
     "text": [
      "the number of images: 30947\n"
     ]
    },
    {
     "data": {
      "image/png": "[encoded data removed]",
      "text/plain": [
       "<Figure size 360x360 with 1 Axes>"
      ]
     },
     "metadata": {
      "needs_background": "light"
     },
     "output_type": "display_data"
    }
   ],
   "source": [
    "df_oid_train = df_oid_all[df_oid_all[\"set\"] == \"train\"]\n",
    "display(df_oid_train[\"ClassName\"].value_counts())\n",
    "display(df_oid_train[\"ClassName\"].value_counts(normalize=True))\n",
    "print(f\"the number of images: {len(df_oid_train.index.unique())}\")\n",
    "sns.catplot(data=df_oid_train, x=\"ClassName\", kind=\"count\", order=class_order)\n",
    "plt.show()"
   ]
  },
  {
   "cell_type": "code",
   "execution_count": 49,
   "metadata": {},
   "outputs": [
    {
     "data": {
      "text/plain": [
       "Vehicle registration plate    987\n",
       "Human face                    675\n",
       "Name: ClassName, dtype: int64"
      ]
     },
     "metadata": {},
     "output_type": "display_data"
    },
    {
     "data": {
      "text/plain": [
       "Vehicle registration plate    0.593863\n",
       "Human face                    0.406137\n",
       "Name: ClassName, dtype: float64"
      ]
     },
     "metadata": {},
     "output_type": "display_data"
    },
    {
     "name": "stdout",
     "output_type": "stream",
     "text": [
      "the number of images: 1080\n"
     ]
    },
    {
     "data": {
      "image/png": "[encoded data removed]",
      "text/plain": [
       "<Figure size 360x360 with 1 Axes>"
      ]
     },
     "metadata": {
      "needs_background": "light"
     },
     "output_type": "display_data"
    }
   ],
   "source": [
    "df_oid_val = df_oid_all[df_oid_all[\"set\"] == \"val\"]\n",
    "display(df_oid_val[\"ClassName\"].value_counts())\n",
    "display(df_oid_val[\"ClassName\"].value_counts(normalize=True))\n",
    "print(f\"the number of images: {len(df_oid_val.index.unique())}\")\n",
    "sns.catplot(data=df_oid_val, x=\"ClassName\", kind=\"count\", order=class_order)\n",
    "plt.show()"
   ]
  },
  {
   "cell_type": "code",
   "execution_count": 50,
   "metadata": {},
   "outputs": [
    {
     "data": {
      "text/plain": [
       "Human face                    69860\n",
       "Vehicle registration plate     8839\n",
       "Name: ClassName, dtype: int64"
      ]
     },
     "metadata": {},
     "output_type": "display_data"
    },
    {
     "data": {
      "text/plain": [
       "Human face                    0.887686\n",
       "Vehicle registration plate    0.112314\n",
       "Name: ClassName, dtype: float64"
      ]
     },
     "metadata": {},
     "output_type": "display_data"
    },
    {
     "name": "stdout",
     "output_type": "stream",
     "text": [
      "the number of images: 32027\n"
     ]
    },
    {
     "data": {
      "image/png": "[encoded data removed]",
      "text/plain": [
       "<Figure size 360x360 with 1 Axes>"
      ]
     },
     "metadata": {
      "needs_background": "light"
     },
     "output_type": "display_data"
    }
   ],
   "source": [
    "df_oid_train_val = pd.concat([df_oid_train, df_oid_val])\n",
    "display(df_oid_train_val[\"ClassName\"].value_counts())\n",
    "display(df_oid_train_val[\"ClassName\"].value_counts(normalize=True))\n",
    "print(f\"the number of images: {len(df_oid_train_val.index.unique())}\")\n",
    "sns.catplot(data=df_oid_train_val, x=\"ClassName\", kind=\"count\", order=class_order)\n",
    "plt.show()"
   ]
  },
  {
   "cell_type": "code",
   "execution_count": null,
   "metadata": {},
   "outputs": [],
   "source": []
  },
  {
   "cell_type": "code",
   "execution_count": 51,
   "metadata": {},
   "outputs": [
    {
     "data": {
      "text/plain": [
       "Human face                    7890\n",
       "Vehicle registration plate    2843\n",
       "Name: ClassName, dtype: int64"
      ]
     },
     "metadata": {},
     "output_type": "display_data"
    },
    {
     "data": {
      "text/plain": [
       "Human face                    0.735116\n",
       "Vehicle registration plate    0.264884\n",
       "Name: ClassName, dtype: float64"
      ]
     },
     "metadata": {},
     "output_type": "display_data"
    },
    {
     "name": "stdout",
     "output_type": "stream",
     "text": [
      "the number of images: 5283\n"
     ]
    },
    {
     "data": {
      "image/png": "[encoded data removed]",
      "text/plain": [
       "<Figure size 360x360 with 1 Axes>"
      ]
     },
     "metadata": {
      "needs_background": "light"
     },
     "output_type": "display_data"
    }
   ],
   "source": [
    "df_oid_test = df_oid_all[df_oid_all[\"set\"] == \"test\"]\n",
    "display(df_oid_test[\"ClassName\"].value_counts())\n",
    "display(df_oid_test[\"ClassName\"].value_counts(normalize=True))\n",
    "print(f\"the number of images: {len(df_oid_test.index.unique())}\")\n",
    "sns.catplot(data=df_oid_test, x=\"ClassName\", kind=\"count\", order=class_order)\n",
    "plt.show()"
   ]
  },
  {
   "cell_type": "code",
   "execution_count": 7,
   "metadata": {
    "collapsed": false,
    "jupyter": {
     "outputs_hidden": false
    },
    "pycharm": {
     "name": "#%%\n"
    }
   },
   "outputs": [],
   "source": [
    "def yolo_labels_to_dataframe(labels_path):\n",
    "    df_all = pd.DataFrame(data=None)\n",
    "    for label_path in labels_path:\n",
    "        image_id = os.path.splitext(os.path.basename(label_path))[0]\n",
    "        df = pd.read_csv(label_path, header=None, delimiter=' ', names=['class_index', 'x_center', 'y_center', 'width', 'height'])\n",
    "        df['image_id'] = image_id\n",
    "        df = df.set_index('image_id')\n",
    "        df_all = pd.concat([df_all, df])\n",
    "    return df_all\n",
    "\n",
    "def display_yolo_anntation(labels_dir):\n",
    "    labels_all_path = [p for p in glob.glob(labels_dir + '/**', recursive=True) if re.search('.txt', p)]\n",
    "    futures = []\n",
    "    with ProcessPoolExecutor(max_workers=os.cpu_count()) as executor:\n",
    "        for labels_path in chunked(labels_all_path, 500):\n",
    "            future = executor.submit(yolo_labels_to_dataframe, labels_path)\n",
    "            futures.append(future)\n",
    "    concurrent.futures.wait(futures, timeout=None)\n",
    "    df_list = [future.result() for future in concurrent.futures.as_completed(futures)]\n",
    "    df_all = pd.DataFrame(data=None)\n",
    "    for df in df_list:\n",
    "        df_all = pd.concat([df_all, df])\n",
    "    return df_all"
   ]
  },
  {
   "cell_type": "code",
   "execution_count": 8,
   "metadata": {
    "collapsed": false,
    "jupyter": {
     "outputs_hidden": false
    },
    "pycharm": {
     "name": "#%%\n"
    }
   },
   "outputs": [
    {
     "name": "stdout",
     "output_type": "stream",
     "text": [
      "the number of images: 28824\n"
     ]
    }
   ],
   "source": [
    "train_dir = \"yolo/labels/train\"\n",
    "df_train = display_yolo_anntation(train_dir)\n",
    "df_train['set'] = 'train'\n",
    "print(f\"the number of images: {len(df_train.index.unique())}\")"
   ]
  },
  {
   "cell_type": "code",
   "execution_count": 9,
   "metadata": {},
   "outputs": [],
   "source": [
    "val_dir = \"yolo/labels/val\"\n",
    "df_val = display_yolo_anntation(val_dir)\n",
    "df_val['set'] = 'val'"
   ]
  },
  {
   "cell_type": "code",
   "execution_count": 10,
   "metadata": {},
   "outputs": [],
   "source": [
    "test_dir = \"yolo/labels/test\"\n",
    "df_test = display_yolo_anntation(test_dir)\n",
    "df_test['set'] = 'test'"
   ]
  },
  {
   "cell_type": "code",
   "execution_count": 11,
   "metadata": {},
   "outputs": [],
   "source": [
    "class_order = [\"Human face\", \"Vehicle registration plate\"]"
   ]
  },
  {
   "cell_type": "code",
   "execution_count": 12,
   "metadata": {
    "collapsed": false,
    "jupyter": {
     "outputs_hidden": false
    },
    "pycharm": {
     "name": "#%%\n"
    }
   },
   "outputs": [
    {
     "data": {
      "text/plain": [
       "Human face                    77750\n",
       "Vehicle registration plate    11682\n",
       "Name: class_name, dtype: int64"
      ]
     },
     "metadata": {},
     "output_type": "display_data"
    },
    {
     "data": {
      "text/plain": [
       "Human face                    0.869376\n",
       "Vehicle registration plate    0.130624\n",
       "Name: class_name, dtype: float64"
      ]
     },
     "metadata": {},
     "output_type": "display_data"
    },
    {
     "name": "stdout",
     "output_type": "stream",
     "text": [
      "the number of images: 37310\n"
     ]
    },
    {
     "data": {
      "image/png": "[encoded data removed]",
      "text/plain": [
       "<Figure size 360x360 with 1 Axes>"
      ]
     },
     "metadata": {
      "needs_background": "light"
     },
     "output_type": "display_data"
    }
   ],
   "source": [
    "df_all = pd.concat([df_train, df_val, df_test])\n",
    "df_all.reset_index()\n",
    "df_all['class_name'] = df_all['class_index'].agg(lambda x: df_classes.loc[x, \"ClassName\"])\n",
    "display(df_all[\"class_name\"].value_counts())\n",
    "display(df_all[\"class_name\"].value_counts(normalize=True))\n",
    "print(f\"the number of images: {len(df_all.index.unique())}\")\n",
    "sns.catplot(data=df_all, x=\"class_name\", kind=\"count\", order=class_order)\n",
    "plt.show()"
   ]
  },
  {
   "cell_type": "code",
   "execution_count": 13,
   "metadata": {},
   "outputs": [
    {
     "data": {
      "text/plain": [
       "Human face                    62584\n",
       "Vehicle registration plate     8000\n",
       "Name: class_name, dtype: int64"
      ]
     },
     "metadata": {},
     "output_type": "display_data"
    },
    {
     "data": {
      "text/plain": [
       "Human face                    0.88666\n",
       "Vehicle registration plate    0.11334\n",
       "Name: class_name, dtype: float64"
      ]
     },
     "metadata": {},
     "output_type": "display_data"
    },
    {
     "name": "stdout",
     "output_type": "stream",
     "text": [
      "the number of images: 28824\n"
     ]
    },
    {
     "data": {
      "image/png": "[encoded data removed]",
      "text/plain": [
       "<Figure size 360x360 with 1 Axes>"
      ]
     },
     "metadata": {
      "needs_background": "light"
     },
     "output_type": "display_data"
    }
   ],
   "source": [
    "df_train = df_all[df_all[\"set\"] == \"train\"]\n",
    "display(df_train[\"class_name\"].value_counts())\n",
    "display(df_train[\"class_name\"].value_counts(normalize=True))\n",
    "print(f\"the number of images: {len(df_train.index.unique())}\")\n",
    "sns.catplot(data=df_train, x=\"class_name\", kind=\"count\", order=class_order)\n",
    "plt.show()"
   ]
  },
  {
   "cell_type": "code",
   "execution_count": 14,
   "metadata": {},
   "outputs": [
    {
     "data": {
      "text/plain": [
       "Human face                    7276\n",
       "Vehicle registration plate     839\n",
       "Name: class_name, dtype: int64"
      ]
     },
     "metadata": {},
     "output_type": "display_data"
    },
    {
     "data": {
      "text/plain": [
       "Human face                    0.896611\n",
       "Vehicle registration plate    0.103389\n",
       "Name: class_name, dtype: float64"
      ]
     },
     "metadata": {},
     "output_type": "display_data"
    },
    {
     "name": "stdout",
     "output_type": "stream",
     "text": [
      "the number of images: 3203\n"
     ]
    },
    {
     "data": {
      "image/png": "[encoded data removed]",
      "text/plain": [
       "<Figure size 360x360 with 1 Axes>"
      ]
     },
     "metadata": {
      "needs_background": "light"
     },
     "output_type": "display_data"
    }
   ],
   "source": [
    "df_val = df_all[df_all[\"set\"] == \"val\"]\n",
    "display(df_val[\"class_name\"].value_counts())\n",
    "display(df_val[\"class_name\"].value_counts(normalize=True))\n",
    "print(f\"the number of images: {len(df_val.index.unique())}\")\n",
    "sns.catplot(data=df_val, x=\"class_name\", kind=\"count\", order=class_order)\n",
    "plt.show()"
   ]
  },
  {
   "cell_type": "code",
   "execution_count": 15,
   "metadata": {},
   "outputs": [
    {
     "data": {
      "text/plain": [
       "Human face                    7890\n",
       "Vehicle registration plate    2843\n",
       "Name: class_name, dtype: int64"
      ]
     },
     "metadata": {},
     "output_type": "display_data"
    },
    {
     "data": {
      "text/plain": [
       "Human face                    0.735116\n",
       "Vehicle registration plate    0.264884\n",
       "Name: class_name, dtype: float64"
      ]
     },
     "metadata": {},
     "output_type": "display_data"
    },
    {
     "name": "stdout",
     "output_type": "stream",
     "text": [
      "the number of images: 5283\n"
     ]
    },
    {
     "data": {
      "image/png": "[encoded data removed]",
      "text/plain": [
       "<Figure size 360x360 with 1 Axes>"
      ]
     },
     "metadata": {
      "needs_background": "light"
     },
     "output_type": "display_data"
    }
   ],
   "source": [
    "df_test = df_all[df_all[\"set\"] == \"test\"]\n",
    "display(df_test[\"class_name\"].value_counts())\n",
    "display(df_test[\"class_name\"].value_counts(normalize=True))\n",
    "print(f\"the number of images: {len(df_test.index.unique())}\")\n",
    "sns.catplot(data = df_test, x = \"class_name\", kind=\"count\", order=class_order)\n",
    "plt.show()"
   ]
  },
  {
   "cell_type": "code",
   "execution_count": null,
   "metadata": {},
   "outputs": [],
   "source": []
  },
  {
   "cell_type": "code",
   "execution_count": null,
   "metadata": {},
   "outputs": [],
   "source": []
  }
 ],
 "metadata": {
  "kernelspec": {
   "display_name": "Python 3",
   "language": "python",
   "name": "python3"
  },
  "language_info": {
   "codemirror_mode": {
    "name": "ipython",
    "version": 3
   },
   "file_extension": ".py",
   "mimetype": "text/x-python",
   "name": "python",
   "nbconvert_exporter": "python",
   "pygments_lexer": "ipython3",
   "version": "3.6.9"
  }
 },
 "nbformat": 4,
 "nbformat_minor": 4
}
