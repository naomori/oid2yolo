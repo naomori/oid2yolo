{
 "cells": [
  {
   "cell_type": "code",
   "execution_count": 1,
   "metadata": {},
   "outputs": [
    {
     "name": "stdout",
     "output_type": "stream",
     "text": [
      "Collecting seaborn\n",
      "  Downloading seaborn-0.10.1-py3-none-any.whl (215 kB)\n",
      "\u001b[K     |████████████████████████████████| 215 kB 6.8 MB/s eta 0:00:01\n",
      "\u001b[?25hRequirement already satisfied: numpy>=1.13.3 in /opt/conda/lib/python3.6/site-packages (from seaborn) (1.19.1)\n",
      "Requirement already satisfied: pandas>=0.22.0 in /opt/conda/lib/python3.6/site-packages (from seaborn) (0.24.2)\n",
      "Requirement already satisfied: scipy>=1.0.1 in /opt/conda/lib/python3.6/site-packages (from seaborn) (1.4.1)\n",
      "Requirement already satisfied: matplotlib>=2.1.2 in /opt/conda/lib/python3.6/site-packages (from seaborn) (3.3.0)\n",
      "Requirement already satisfied: pytz>=2011k in /opt/conda/lib/python3.6/site-packages (from pandas>=0.22.0->seaborn) (2019.3)\n",
      "Requirement already satisfied: python-dateutil>=2.5.0 in /opt/conda/lib/python3.6/site-packages (from pandas>=0.22.0->seaborn) (2.8.1)\n",
      "Requirement already satisfied: cycler>=0.10 in /opt/conda/lib/python3.6/site-packages (from matplotlib>=2.1.2->seaborn) (0.10.0)\n",
      "Requirement already satisfied: pyparsing!=2.0.4,!=2.1.2,!=2.1.6,>=2.0.3 in /opt/conda/lib/python3.6/site-packages (from matplotlib>=2.1.2->seaborn) (2.4.6)\n",
      "Requirement already satisfied: pillow>=6.2.0 in /opt/conda/lib/python3.6/site-packages (from matplotlib>=2.1.2->seaborn) (7.2.0)\n",
      "Requirement already satisfied: kiwisolver>=1.0.1 in /opt/conda/lib/python3.6/site-packages (from matplotlib>=2.1.2->seaborn) (1.1.0)\n",
      "Requirement already satisfied: six>=1.5 in /opt/conda/lib/python3.6/site-packages (from python-dateutil>=2.5.0->pandas>=0.22.0->seaborn) (1.14.0)\n",
      "Requirement already satisfied: setuptools in /opt/conda/lib/python3.6/site-packages (from kiwisolver>=1.0.1->matplotlib>=2.1.2->seaborn) (45.2.0.post20200210)\n",
      "Installing collected packages: seaborn\n",
      "Successfully installed seaborn-0.10.1\n",
      "Requirement already satisfied: matplotlib in /opt/conda/lib/python3.6/site-packages (3.3.0)\n",
      "Requirement already satisfied: python-dateutil>=2.1 in /opt/conda/lib/python3.6/site-packages (from matplotlib) (2.8.1)\n",
      "Requirement already satisfied: pyparsing!=2.0.4,!=2.1.2,!=2.1.6,>=2.0.3 in /opt/conda/lib/python3.6/site-packages (from matplotlib) (2.4.6)\n",
      "Requirement already satisfied: numpy>=1.15 in /opt/conda/lib/python3.6/site-packages (from matplotlib) (1.19.1)\n",
      "Requirement already satisfied: kiwisolver>=1.0.1 in /opt/conda/lib/python3.6/site-packages (from matplotlib) (1.1.0)\n",
      "Requirement already satisfied: pillow>=6.2.0 in /opt/conda/lib/python3.6/site-packages (from matplotlib) (7.2.0)\n",
      "Requirement already satisfied: cycler>=0.10 in /opt/conda/lib/python3.6/site-packages (from matplotlib) (0.10.0)\n",
      "Requirement already satisfied: six>=1.5 in /opt/conda/lib/python3.6/site-packages (from python-dateutil>=2.1->matplotlib) (1.14.0)\n",
      "Requirement already satisfied: setuptools in /opt/conda/lib/python3.6/site-packages (from kiwisolver>=1.0.1->matplotlib) (45.2.0.post20200210)\n"
     ]
    }
   ],
   "source": [
    "!pip install seaborn\n",
    "!pip install matplotlib"
   ]
  },
  {
   "cell_type": "code",
   "execution_count": 2,
   "metadata": {},
   "outputs": [],
   "source": [
    "import os\n",
    "import glob\n",
    "import re\n",
    "import pandas as pd\n",
    "import concurrent.futures\n",
    "from concurrent.futures import ProcessPoolExecutor\n",
    "from more_itertools import chunked\n",
    "\n",
    "import seaborn as sns\n",
    "import matplotlib.pyplot as plt"
   ]
  },
  {
   "cell_type": "code",
   "execution_count": 3,
   "metadata": {
    "collapsed": false,
    "jupyter": {
     "outputs_hidden": false
    },
    "pycharm": {
     "name": "#%%\n"
    }
   },
   "outputs": [
    {
     "name": "stdout",
     "output_type": "stream",
     "text": [
      "/workspace/oid2yolo\n"
     ]
    }
   ],
   "source": [
    "%pwd\n",
    "%cd /workspace/oid2yolo"
   ]
  },
  {
   "cell_type": "code",
   "execution_count": 73,
   "metadata": {},
   "outputs": [],
   "source": [
    "oid_path = \"/workspace/open_images_dataset_v6/subset_600\""
   ]
  },
  {
   "cell_type": "code",
   "execution_count": 7,
   "metadata": {},
   "outputs": [],
   "source": [
    "oid_class_csv = oid_path + '/class-descriptions-boxable.csv'\n",
    "\n",
    "class_names = ['Human face', 'Vehicle registration plate']\n",
    "df_all_classes = pd.read_csv(oid_class_csv, names=['LabelName', 'ClassName'])\n",
    "df_classes = df_all_classes[df_all_classes['ClassName'].isin(class_names)].copy()\n",
    "df_classes['order'] = df_classes['ClassName'].apply(lambda x: class_names.index(x))\n",
    "df_classes.sort_values('order', inplace=True)\n",
    "df_classes.reset_index(drop=True, inplace=True)\n",
    "df_classes.drop(columns='order', inplace=True)"
   ]
  },
  {
   "cell_type": "code",
   "execution_count": 8,
   "metadata": {},
   "outputs": [],
   "source": [
    "org_train_csv = oid_path + '/oidv6-train-annotations-bbox.csv'\n",
    "org_val_csv = oid_path + '/validation-annotations-bbox.csv'\n",
    "org_test_csv = oid_path + '/test-annotations-bbox.csv'"
   ]
  },
  {
   "cell_type": "code",
   "execution_count": 218,
   "metadata": {},
   "outputs": [],
   "source": [
    "class_filter_all =  [\n",
    "      [\"Vehicle registration plate\"],\n",
    "      [\"Human face\", \"Truck\"],\n",
    "      [\"Human face\", \"Bus\"],\n",
    "      [\"Human face\", \"Van\"],\n",
    "      [\"Human face\", \"Ambulance\"],\n",
    "      [\"Human face\", \"Limousine\"],\n",
    "      [\"Human face\", \"Taxi\"],\n",
    "      [\"Human face\", \"Bicycle\"],\n",
    "      [\"Human face\", \"Bicycle wheel\"],\n",
    "      [\"Human face\", \"Bicycle helmet\"],\n",
    "      [\"Human face\", \"Motorcycle\"],\n",
    "      [\"Human face\", \"Traffic light\"],\n",
    "      [\"Human face\", \"Traffic sign\"],\n",
    "      [\"Human face\", \"Stop sign\"],\n",
    "      [\"Human face\", \"Parking meter\"],\n",
    "      [\"Human face\", \"Cart\"],\n",
    "      [\"Human face\", \"Street light\"],\n",
    "      [\"Human face\", \"Skateboard\"],\n",
    "      [\"Human face\", \"Wheelchair\"],\n",
    "      [\"Human face\", \"Billboard\"],\n",
    "      [\"Human face\", \"Fire hydrant\"],\n",
    "      [\"Human face\", \"Office building\"],\n",
    "      [\"Human face\", \"Fountain\"],\n",
    "      [\"Human face\", \"Stretcher\"],\n",
    "      [\"Human face\", \"Roller skates\"],\n",
    "      [\"Human face\", \"Sun hat\"],\n",
    "      [\"Human face\", \"Helmet\"],\n",
    "      [\"Human face\", \"Sunglasses\"],\n",
    "      [\"Human face\", \"Mobile phone\"],\n",
    "      [\"Human face\", \"Briefcase\"],\n",
    "      [\"Human face\", \"Bench\"]\n",
    "]"
   ]
  },
  {
   "cell_type": "code",
   "execution_count": 219,
   "metadata": {},
   "outputs": [],
   "source": [
    "def split_last_df_image(df):\n",
    "    df_image = df.groupby(\"ImageID\")\n",
    "    last_image_id = df.tail(1)[\"ImageID\"]\n",
    "    last_group = df_image.get_group(*last_image_id)\n",
    "    last_group_len = len(last_group)\n",
    "    if last_group_len < len(df):\n",
    "        df.drop(df.tail(last_group_len).index, inplace=True)\n",
    "    df_rest = last_group\n",
    "    return df, df_rest"
   ]
  },
  {
   "cell_type": "code",
   "execution_count": 220,
   "metadata": {
    "collapsed": false,
    "jupyter": {
     "outputs_hidden": false
    },
    "pycharm": {
     "name": "#%%\n"
    }
   },
   "outputs": [],
   "source": [
    "def flatten_list(l):\n",
    "    for el in l:\n",
    "        if isinstance(el, list):\n",
    "            yield from flatten_list(el)\n",
    "        else:\n",
    "            yield el"
   ]
  },
  {
   "cell_type": "code",
   "execution_count": 221,
   "metadata": {
    "collapsed": false,
    "jupyter": {
     "outputs_hidden": false
    },
    "pycharm": {
     "name": "#%%\n"
    }
   },
   "outputs": [],
   "source": [
    "def image_filter_func(df, class_filter_list):\n",
    "    for class_filter in class_filter_list:\n",
    "        if set(class_filter).issubset(list(df[\"ClassName\"])):\n",
    "            return df[df['ClassName'].isin(flatten_list(class_filter_list))]\n",
    "    return None"
   ]
  },
  {
   "cell_type": "code",
   "execution_count": 222,
   "metadata": {},
   "outputs": [],
   "source": [
    "def apply_image_filter(df, class_filter_list, df_class):\n",
    "    df['ClassName'] = df['LabelName'].agg(lambda x: df_class.loc[df_class[df_class['LabelName'] == x].index[0], \"ClassName\"])\n",
    "    return df.groupby(\"ImageID\", as_index=False).apply(image_filter_func, class_filter_list=class_filter_list)"
   ]
  },
  {
   "cell_type": "code",
   "execution_count": 223,
   "metadata": {},
   "outputs": [],
   "source": [
    "def read_csv_chunk(csv_file, df_classes):\n",
    "    futures = []\n",
    "    with ProcessPoolExecutor(max_workers=os.cpu_count()) as executor:\n",
    "        use_columns = [\"ImageID\", \"LabelName\"]\n",
    "        df_rest = None\n",
    "        for index, df_bbox in enumerate(pd.read_csv(csv_file, header=0, usecols=use_columns, chunksize=10000)):\n",
    "            df, df_last = split_last_df_image(df_bbox)\n",
    "            if df_rest is not None:\n",
    "                df = pd.concat([df_rest, df])\n",
    "            df_rest = df_last\n",
    "            future = executor.submit(apply_image_filter, df, class_filter_all, df_classes)\n",
    "            futures.append(future)\n",
    "    concurrent.futures.wait(futures, timeout=None)\n",
    "    df_list = [future.result() for future in concurrent.futures.as_completed(futures)]\n",
    "    df_csv_all = pd.DataFrame(data=None)\n",
    "    for df in df_list:\n",
    "        df_csv_all = pd.concat([df_csv_all, df])\n",
    "    return df_csv_all"
   ]
  },
  {
   "cell_type": "code",
   "execution_count": 224,
   "metadata": {
    "collapsed": false,
    "jupyter": {
     "outputs_hidden": false
    },
    "pycharm": {
     "name": "#%%\n"
    }
   },
   "outputs": [],
   "source": [
    "df_org_train = read_csv_chunk(org_train_csv, df_all_classes)\n",
    "df_org_val = read_csv_chunk(org_val_csv, df_all_classes)\n",
    "df_org_test = read_csv_chunk(org_test_csv, df_all_classes)"
   ]
  },
  {
   "cell_type": "code",
   "execution_count": 225,
   "metadata": {},
   "outputs": [
    {
     "data": {
      "text/plain": [
       "Human face                    48951\n",
       "Sunglasses                    15256\n",
       "Vehicle registration plate     7852\n",
       "Helmet                         4538\n",
       "Sun hat                        3788\n",
       "Bicycle wheel                  2300\n",
       "Bicycle                        1826\n",
       "Bicycle helmet                 1226\n",
       "Mobile phone                    939\n",
       "Billboard                       875\n",
       "Street light                    773\n",
       "Office building                 753\n",
       "Bus                             747\n",
       "Roller skates                   656\n",
       "Van                             583\n",
       "Motorcycle                      507\n",
       "Truck                           433\n",
       "Traffic light                   253\n",
       "Traffic sign                    211\n",
       "Bench                           202\n",
       "Taxi                            188\n",
       "Wheelchair                      113\n",
       "Cart                             85\n",
       "Fountain                         78\n",
       "Skateboard                       70\n",
       "Limousine                        15\n",
       "Stop sign                        10\n",
       "Stretcher                         9\n",
       "Ambulance                         9\n",
       "Briefcase                         6\n",
       "Parking meter                     2\n",
       "Fire hydrant                      1\n",
       "Name: ClassName, dtype: int64"
      ]
     },
     "metadata": {},
     "output_type": "display_data"
    },
    {
     "data": {
      "text/plain": [
       "Human face                    0.524916\n",
       "Sunglasses                    0.163594\n",
       "Vehicle registration plate    0.084199\n",
       "Helmet                        0.048662\n",
       "Sun hat                       0.040620\n",
       "Bicycle wheel                 0.024664\n",
       "Bicycle                       0.019581\n",
       "Bicycle helmet                0.013147\n",
       "Mobile phone                  0.010069\n",
       "Billboard                     0.009383\n",
       "Street light                  0.008289\n",
       "Office building               0.008075\n",
       "Bus                           0.008010\n",
       "Roller skates                 0.007034\n",
       "Van                           0.006252\n",
       "Motorcycle                    0.005437\n",
       "Truck                         0.004643\n",
       "Traffic light                 0.002713\n",
       "Traffic sign                  0.002263\n",
       "Bench                         0.002166\n",
       "Taxi                          0.002016\n",
       "Wheelchair                    0.001212\n",
       "Cart                          0.000911\n",
       "Fountain                      0.000836\n",
       "Skateboard                    0.000751\n",
       "Limousine                     0.000161\n",
       "Stop sign                     0.000107\n",
       "Stretcher                     0.000097\n",
       "Ambulance                     0.000097\n",
       "Briefcase                     0.000064\n",
       "Parking meter                 0.000021\n",
       "Fire hydrant                  0.000011\n",
       "Name: ClassName, dtype: float64"
      ]
     },
     "metadata": {},
     "output_type": "display_data"
    },
    {
     "name": "stdout",
     "output_type": "stream",
     "text": [
      "the number of images: 93255\n"
     ]
    }
   ],
   "source": [
    "display(df_org_train[\"ClassName\"].value_counts())\n",
    "display(df_org_train[\"ClassName\"].value_counts(normalize=True))\n",
    "print(f\"the number of images: {len(df_org_train.index.unique())}\")"
   ]
  },
  {
   "cell_type": "code",
   "execution_count": 226,
   "metadata": {
    "collapsed": false,
    "jupyter": {
     "outputs_hidden": false
    },
    "pycharm": {
     "name": "#%%\n"
    }
   },
   "outputs": [
    {
     "data": {
      "text/plain": [
       "Vehicle registration plate    987\n",
       "Human face                    428\n",
       "Helmet                        131\n",
       "Sunglasses                    106\n",
       "Bicycle wheel                  59\n",
       "Taxi                           45\n",
       "Sun hat                        42\n",
       "Van                            30\n",
       "Bicycle helmet                 28\n",
       "Bicycle                        27\n",
       "Bus                            17\n",
       "Truck                          16\n",
       "Motorcycle                     15\n",
       "Wheelchair                     15\n",
       "Roller skates                  14\n",
       "Mobile phone                   11\n",
       "Traffic light                  10\n",
       "Office building                 7\n",
       "Skateboard                      5\n",
       "Billboard                       5\n",
       "Cart                            5\n",
       "Street light                    5\n",
       "Limousine                       3\n",
       "Traffic sign                    3\n",
       "Parking meter                   1\n",
       "Ambulance                       1\n",
       "Name: ClassName, dtype: int64"
      ]
     },
     "metadata": {},
     "output_type": "display_data"
    },
    {
     "data": {
      "text/plain": [
       "Vehicle registration plate    0.489583\n",
       "Human face                    0.212302\n",
       "Helmet                        0.064980\n",
       "Sunglasses                    0.052579\n",
       "Bicycle wheel                 0.029266\n",
       "Taxi                          0.022321\n",
       "Sun hat                       0.020833\n",
       "Van                           0.014881\n",
       "Bicycle helmet                0.013889\n",
       "Bicycle                       0.013393\n",
       "Bus                           0.008433\n",
       "Truck                         0.007937\n",
       "Motorcycle                    0.007440\n",
       "Wheelchair                    0.007440\n",
       "Roller skates                 0.006944\n",
       "Mobile phone                  0.005456\n",
       "Traffic light                 0.004960\n",
       "Office building               0.003472\n",
       "Skateboard                    0.002480\n",
       "Billboard                     0.002480\n",
       "Cart                          0.002480\n",
       "Street light                  0.002480\n",
       "Limousine                     0.001488\n",
       "Traffic sign                  0.001488\n",
       "Parking meter                 0.000496\n",
       "Ambulance                     0.000496\n",
       "Name: ClassName, dtype: float64"
      ]
     },
     "metadata": {},
     "output_type": "display_data"
    },
    {
     "name": "stdout",
     "output_type": "stream",
     "text": [
      "the number of images: 2016\n"
     ]
    }
   ],
   "source": [
    "display(df_org_val[\"ClassName\"].value_counts())\n",
    "display(df_org_val[\"ClassName\"].value_counts(normalize=True))\n",
    "print(f\"the number of images: {len(df_org_val.index.unique())}\")"
   ]
  },
  {
   "cell_type": "code",
   "execution_count": 227,
   "metadata": {
    "collapsed": false,
    "jupyter": {
     "outputs_hidden": false
    },
    "pycharm": {
     "name": "#%%\n"
    }
   },
   "outputs": [
    {
     "data": {
      "text/plain": [
       "Vehicle registration plate    2843\n",
       "Human face                    1319\n",
       "Sunglasses                     316\n",
       "Helmet                         283\n",
       "Sun hat                        167\n",
       "Bicycle wheel                  118\n",
       "Van                             93\n",
       "Roller skates                   91\n",
       "Bicycle                         76\n",
       "Bicycle helmet                  72\n",
       "Bus                             68\n",
       "Truck                           68\n",
       "Motorcycle                      24\n",
       "Street light                    23\n",
       "Taxi                            22\n",
       "Wheelchair                      20\n",
       "Office building                 19\n",
       "Traffic light                   17\n",
       "Mobile phone                    16\n",
       "Cart                            15\n",
       "Traffic sign                    14\n",
       "Skateboard                      11\n",
       "Ambulance                        9\n",
       "Billboard                        8\n",
       "Limousine                        4\n",
       "Name: ClassName, dtype: int64"
      ]
     },
     "metadata": {},
     "output_type": "display_data"
    },
    {
     "data": {
      "text/plain": [
       "Vehicle registration plate    0.497376\n",
       "Human face                    0.230756\n",
       "Sunglasses                    0.055283\n",
       "Helmet                        0.049510\n",
       "Sun hat                       0.029216\n",
       "Bicycle wheel                 0.020644\n",
       "Van                           0.016270\n",
       "Roller skates                 0.015920\n",
       "Bicycle                       0.013296\n",
       "Bicycle helmet                0.012596\n",
       "Bus                           0.011896\n",
       "Truck                         0.011896\n",
       "Motorcycle                    0.004199\n",
       "Street light                  0.004024\n",
       "Taxi                          0.003849\n",
       "Wheelchair                    0.003499\n",
       "Office building               0.003324\n",
       "Traffic light                 0.002974\n",
       "Mobile phone                  0.002799\n",
       "Cart                          0.002624\n",
       "Traffic sign                  0.002449\n",
       "Skateboard                    0.001924\n",
       "Ambulance                     0.001575\n",
       "Billboard                     0.001400\n",
       "Limousine                     0.000700\n",
       "Name: ClassName, dtype: float64"
      ]
     },
     "metadata": {},
     "output_type": "display_data"
    },
    {
     "name": "stdout",
     "output_type": "stream",
     "text": [
      "the number of images: 5716\n"
     ]
    }
   ],
   "source": [
    "display(df_org_test[\"ClassName\"].value_counts())\n",
    "display(df_org_test[\"ClassName\"].value_counts(normalize=True))\n",
    "print(f\"the number of images: {len(df_org_test.index.unique())}\")"
   ]
  },
  {
   "cell_type": "code",
   "execution_count": 20,
   "metadata": {
    "collapsed": false,
    "jupyter": {
     "outputs_hidden": false
    },
    "pycharm": {
     "name": "#%%\n"
    }
   },
   "outputs": [
    {
     "data": {
      "image/png": "[encoded data removed]",
      "text/plain": [
       "<Figure size 360x360 with 1 Axes>"
      ]
     },
     "metadata": {
      "needs_background": "light"
     },
     "output_type": "display_data"
    }
   ],
   "source": [
    "sns.catplot(data=df_org_train, x=\"ClassName\", kind=\"count\")\n",
    "plt.show()"
   ]
  },
  {
   "cell_type": "code",
   "execution_count": 21,
   "metadata": {},
   "outputs": [
    {
     "ename": "KeyboardInterrupt",
     "evalue": "",
     "output_type": "error",
     "traceback": [
      "\u001b[0;31m\u001b[0m",
      "\u001b[0;31mKeyboardInterrupt\u001b[0mTraceback (most recent call last)",
      "\u001b[0;32m<ipython-input-21-071be3d797dc>\u001b[0m in \u001b[0;36m<module>\u001b[0;34m\u001b[0m\n\u001b[1;32m      2\u001b[0m \u001b[0mdf_org_train\u001b[0m \u001b[0;34m=\u001b[0m \u001b[0mpd\u001b[0m\u001b[0;34m.\u001b[0m\u001b[0mread_csv\u001b[0m\u001b[0;34m(\u001b[0m\u001b[0morg_train_csv\u001b[0m\u001b[0;34m,\u001b[0m \u001b[0mheader\u001b[0m\u001b[0;34m=\u001b[0m\u001b[0;36m0\u001b[0m\u001b[0;34m,\u001b[0m \u001b[0musecols\u001b[0m\u001b[0;34m=\u001b[0m\u001b[0mneed_columns\u001b[0m\u001b[0;34m)\u001b[0m\u001b[0;34m\u001b[0m\u001b[0;34m\u001b[0m\u001b[0m\n\u001b[1;32m      3\u001b[0m df_org_train['ClassName'] = df_org_train['LabelName'].agg(\n\u001b[0;32m----> 4\u001b[0;31m     lambda x: df_all_classes.loc[df_all_classes[df_all_classes['LabelName'] == x].index[0], \"ClassName\"])\n\u001b[0m",
      "\u001b[0;32m/opt/conda/lib/python3.6/site-packages/pandas/core/series.py\u001b[0m in \u001b[0;36maggregate\u001b[0;34m(self, func, axis, *args, **kwargs)\u001b[0m\n\u001b[1;32m   3450\u001b[0m             \u001b[0;31m# operation is actually defined on the Series, e.g. str\u001b[0m\u001b[0;34m\u001b[0m\u001b[0;34m\u001b[0m\u001b[0;34m\u001b[0m\u001b[0m\n\u001b[1;32m   3451\u001b[0m             \u001b[0;32mtry\u001b[0m\u001b[0;34m:\u001b[0m\u001b[0;34m\u001b[0m\u001b[0;34m\u001b[0m\u001b[0m\n\u001b[0;32m-> 3452\u001b[0;31m                 \u001b[0mresult\u001b[0m \u001b[0;34m=\u001b[0m \u001b[0mself\u001b[0m\u001b[0;34m.\u001b[0m\u001b[0mapply\u001b[0m\u001b[0;34m(\u001b[0m\u001b[0mfunc\u001b[0m\u001b[0;34m,\u001b[0m \u001b[0;34m*\u001b[0m\u001b[0margs\u001b[0m\u001b[0;34m,\u001b[0m \u001b[0;34m**\u001b[0m\u001b[0mkwargs\u001b[0m\u001b[0;34m)\u001b[0m\u001b[0;34m\u001b[0m\u001b[0;34m\u001b[0m\u001b[0m\n\u001b[0m\u001b[1;32m   3453\u001b[0m             \u001b[0;32mexcept\u001b[0m \u001b[0;34m(\u001b[0m\u001b[0mValueError\u001b[0m\u001b[0;34m,\u001b[0m \u001b[0mAttributeError\u001b[0m\u001b[0;34m,\u001b[0m \u001b[0mTypeError\u001b[0m\u001b[0;34m)\u001b[0m\u001b[0;34m:\u001b[0m\u001b[0;34m\u001b[0m\u001b[0;34m\u001b[0m\u001b[0m\n\u001b[1;32m   3454\u001b[0m                 \u001b[0mresult\u001b[0m \u001b[0;34m=\u001b[0m \u001b[0mfunc\u001b[0m\u001b[0;34m(\u001b[0m\u001b[0mself\u001b[0m\u001b[0;34m,\u001b[0m \u001b[0;34m*\u001b[0m\u001b[0margs\u001b[0m\u001b[0;34m,\u001b[0m \u001b[0;34m**\u001b[0m\u001b[0mkwargs\u001b[0m\u001b[0;34m)\u001b[0m\u001b[0;34m\u001b[0m\u001b[0;34m\u001b[0m\u001b[0m\n",
      "\u001b[0;32m/opt/conda/lib/python3.6/site-packages/pandas/core/series.py\u001b[0m in \u001b[0;36mapply\u001b[0;34m(self, func, convert_dtype, args, **kwds)\u001b[0m\n\u001b[1;32m   3589\u001b[0m             \u001b[0;32melse\u001b[0m\u001b[0;34m:\u001b[0m\u001b[0;34m\u001b[0m\u001b[0;34m\u001b[0m\u001b[0m\n\u001b[1;32m   3590\u001b[0m                 \u001b[0mvalues\u001b[0m \u001b[0;34m=\u001b[0m \u001b[0mself\u001b[0m\u001b[0;34m.\u001b[0m\u001b[0mastype\u001b[0m\u001b[0;34m(\u001b[0m\u001b[0mobject\u001b[0m\u001b[0;34m)\u001b[0m\u001b[0;34m.\u001b[0m\u001b[0mvalues\u001b[0m\u001b[0;34m\u001b[0m\u001b[0;34m\u001b[0m\u001b[0m\n\u001b[0;32m-> 3591\u001b[0;31m                 \u001b[0mmapped\u001b[0m \u001b[0;34m=\u001b[0m \u001b[0mlib\u001b[0m\u001b[0;34m.\u001b[0m\u001b[0mmap_infer\u001b[0m\u001b[0;34m(\u001b[0m\u001b[0mvalues\u001b[0m\u001b[0;34m,\u001b[0m \u001b[0mf\u001b[0m\u001b[0;34m,\u001b[0m \u001b[0mconvert\u001b[0m\u001b[0;34m=\u001b[0m\u001b[0mconvert_dtype\u001b[0m\u001b[0;34m)\u001b[0m\u001b[0;34m\u001b[0m\u001b[0;34m\u001b[0m\u001b[0m\n\u001b[0m\u001b[1;32m   3592\u001b[0m \u001b[0;34m\u001b[0m\u001b[0m\n\u001b[1;32m   3593\u001b[0m         \u001b[0;32mif\u001b[0m \u001b[0mlen\u001b[0m\u001b[0;34m(\u001b[0m\u001b[0mmapped\u001b[0m\u001b[0;34m)\u001b[0m \u001b[0;32mand\u001b[0m \u001b[0misinstance\u001b[0m\u001b[0;34m(\u001b[0m\u001b[0mmapped\u001b[0m\u001b[0;34m[\u001b[0m\u001b[0;36m0\u001b[0m\u001b[0;34m]\u001b[0m\u001b[0;34m,\u001b[0m \u001b[0mSeries\u001b[0m\u001b[0;34m)\u001b[0m\u001b[0;34m:\u001b[0m\u001b[0;34m\u001b[0m\u001b[0;34m\u001b[0m\u001b[0m\n",
      "\u001b[0;32mpandas/_libs/lib.pyx\u001b[0m in \u001b[0;36mpandas._libs.lib.map_infer\u001b[0;34m()\u001b[0m\n",
      "\u001b[0;32m<ipython-input-21-071be3d797dc>\u001b[0m in \u001b[0;36m<lambda>\u001b[0;34m(x)\u001b[0m\n\u001b[1;32m      2\u001b[0m \u001b[0mdf_org_train\u001b[0m \u001b[0;34m=\u001b[0m \u001b[0mpd\u001b[0m\u001b[0;34m.\u001b[0m\u001b[0mread_csv\u001b[0m\u001b[0;34m(\u001b[0m\u001b[0morg_train_csv\u001b[0m\u001b[0;34m,\u001b[0m \u001b[0mheader\u001b[0m\u001b[0;34m=\u001b[0m\u001b[0;36m0\u001b[0m\u001b[0;34m,\u001b[0m \u001b[0musecols\u001b[0m\u001b[0;34m=\u001b[0m\u001b[0mneed_columns\u001b[0m\u001b[0;34m)\u001b[0m\u001b[0;34m\u001b[0m\u001b[0;34m\u001b[0m\u001b[0m\n\u001b[1;32m      3\u001b[0m df_org_train['ClassName'] = df_org_train['LabelName'].agg(\n\u001b[0;32m----> 4\u001b[0;31m     lambda x: df_all_classes.loc[df_all_classes[df_all_classes['LabelName'] == x].index[0], \"ClassName\"])\n\u001b[0m",
      "\u001b[0;32m/opt/conda/lib/python3.6/site-packages/pandas/core/frame.py\u001b[0m in \u001b[0;36m__getitem__\u001b[0;34m(self, key)\u001b[0m\n\u001b[1;32m   2916\u001b[0m         \u001b[0;31m# Do we have a (boolean) 1d indexer?\u001b[0m\u001b[0;34m\u001b[0m\u001b[0;34m\u001b[0m\u001b[0;34m\u001b[0m\u001b[0m\n\u001b[1;32m   2917\u001b[0m         \u001b[0;32mif\u001b[0m \u001b[0mcom\u001b[0m\u001b[0;34m.\u001b[0m\u001b[0mis_bool_indexer\u001b[0m\u001b[0;34m(\u001b[0m\u001b[0mkey\u001b[0m\u001b[0;34m)\u001b[0m\u001b[0;34m:\u001b[0m\u001b[0;34m\u001b[0m\u001b[0;34m\u001b[0m\u001b[0m\n\u001b[0;32m-> 2918\u001b[0;31m             \u001b[0;32mreturn\u001b[0m \u001b[0mself\u001b[0m\u001b[0;34m.\u001b[0m\u001b[0m_getitem_bool_array\u001b[0m\u001b[0;34m(\u001b[0m\u001b[0mkey\u001b[0m\u001b[0;34m)\u001b[0m\u001b[0;34m\u001b[0m\u001b[0;34m\u001b[0m\u001b[0m\n\u001b[0m\u001b[1;32m   2919\u001b[0m \u001b[0;34m\u001b[0m\u001b[0m\n\u001b[1;32m   2920\u001b[0m         \u001b[0;31m# We are left with two options: a single key, and a collection of keys,\u001b[0m\u001b[0;34m\u001b[0m\u001b[0;34m\u001b[0m\u001b[0;34m\u001b[0m\u001b[0m\n",
      "\u001b[0;32m/opt/conda/lib/python3.6/site-packages/pandas/core/frame.py\u001b[0m in \u001b[0;36m_getitem_bool_array\u001b[0;34m(self, key)\u001b[0m\n\u001b[1;32m   2967\u001b[0m         \u001b[0mkey\u001b[0m \u001b[0;34m=\u001b[0m \u001b[0mcheck_bool_indexer\u001b[0m\u001b[0;34m(\u001b[0m\u001b[0mself\u001b[0m\u001b[0;34m.\u001b[0m\u001b[0mindex\u001b[0m\u001b[0;34m,\u001b[0m \u001b[0mkey\u001b[0m\u001b[0;34m)\u001b[0m\u001b[0;34m\u001b[0m\u001b[0;34m\u001b[0m\u001b[0m\n\u001b[1;32m   2968\u001b[0m         \u001b[0mindexer\u001b[0m \u001b[0;34m=\u001b[0m \u001b[0mkey\u001b[0m\u001b[0;34m.\u001b[0m\u001b[0mnonzero\u001b[0m\u001b[0;34m(\u001b[0m\u001b[0;34m)\u001b[0m\u001b[0;34m[\u001b[0m\u001b[0;36m0\u001b[0m\u001b[0;34m]\u001b[0m\u001b[0;34m\u001b[0m\u001b[0;34m\u001b[0m\u001b[0m\n\u001b[0;32m-> 2969\u001b[0;31m         \u001b[0;32mreturn\u001b[0m \u001b[0mself\u001b[0m\u001b[0;34m.\u001b[0m\u001b[0m_take\u001b[0m\u001b[0;34m(\u001b[0m\u001b[0mindexer\u001b[0m\u001b[0;34m,\u001b[0m \u001b[0maxis\u001b[0m\u001b[0;34m=\u001b[0m\u001b[0;36m0\u001b[0m\u001b[0;34m)\u001b[0m\u001b[0;34m\u001b[0m\u001b[0;34m\u001b[0m\u001b[0m\n\u001b[0m\u001b[1;32m   2970\u001b[0m \u001b[0;34m\u001b[0m\u001b[0m\n\u001b[1;32m   2971\u001b[0m     \u001b[0;32mdef\u001b[0m \u001b[0m_getitem_multilevel\u001b[0m\u001b[0;34m(\u001b[0m\u001b[0mself\u001b[0m\u001b[0;34m,\u001b[0m \u001b[0mkey\u001b[0m\u001b[0;34m)\u001b[0m\u001b[0;34m:\u001b[0m\u001b[0;34m\u001b[0m\u001b[0;34m\u001b[0m\u001b[0m\n",
      "\u001b[0;32m/opt/conda/lib/python3.6/site-packages/pandas/core/generic.py\u001b[0m in \u001b[0;36m_take\u001b[0;34m(self, indices, axis, is_copy)\u001b[0m\n\u001b[1;32m   3357\u001b[0m         new_data = self._data.take(indices,\n\u001b[1;32m   3358\u001b[0m                                    \u001b[0maxis\u001b[0m\u001b[0;34m=\u001b[0m\u001b[0mself\u001b[0m\u001b[0;34m.\u001b[0m\u001b[0m_get_block_manager_axis\u001b[0m\u001b[0;34m(\u001b[0m\u001b[0maxis\u001b[0m\u001b[0;34m)\u001b[0m\u001b[0;34m,\u001b[0m\u001b[0;34m\u001b[0m\u001b[0;34m\u001b[0m\u001b[0m\n\u001b[0;32m-> 3359\u001b[0;31m                                    verify=True)\n\u001b[0m\u001b[1;32m   3360\u001b[0m         \u001b[0mresult\u001b[0m \u001b[0;34m=\u001b[0m \u001b[0mself\u001b[0m\u001b[0;34m.\u001b[0m\u001b[0m_constructor\u001b[0m\u001b[0;34m(\u001b[0m\u001b[0mnew_data\u001b[0m\u001b[0;34m)\u001b[0m\u001b[0;34m.\u001b[0m\u001b[0m__finalize__\u001b[0m\u001b[0;34m(\u001b[0m\u001b[0mself\u001b[0m\u001b[0;34m)\u001b[0m\u001b[0;34m\u001b[0m\u001b[0;34m\u001b[0m\u001b[0m\n\u001b[1;32m   3361\u001b[0m \u001b[0;34m\u001b[0m\u001b[0m\n",
      "\u001b[0;32m/opt/conda/lib/python3.6/site-packages/pandas/core/internals/managers.py\u001b[0m in \u001b[0;36mtake\u001b[0;34m(self, indexer, axis, verify, convert)\u001b[0m\n\u001b[1;32m   1348\u001b[0m         \u001b[0mnew_labels\u001b[0m \u001b[0;34m=\u001b[0m \u001b[0mself\u001b[0m\u001b[0;34m.\u001b[0m\u001b[0maxes\u001b[0m\u001b[0;34m[\u001b[0m\u001b[0maxis\u001b[0m\u001b[0;34m]\u001b[0m\u001b[0;34m.\u001b[0m\u001b[0mtake\u001b[0m\u001b[0;34m(\u001b[0m\u001b[0mindexer\u001b[0m\u001b[0;34m)\u001b[0m\u001b[0;34m\u001b[0m\u001b[0;34m\u001b[0m\u001b[0m\n\u001b[1;32m   1349\u001b[0m         return self.reindex_indexer(new_axis=new_labels, indexer=indexer,\n\u001b[0;32m-> 1350\u001b[0;31m                                     axis=axis, allow_dups=True)\n\u001b[0m\u001b[1;32m   1351\u001b[0m \u001b[0;34m\u001b[0m\u001b[0m\n\u001b[1;32m   1352\u001b[0m     \u001b[0;32mdef\u001b[0m \u001b[0mmerge\u001b[0m\u001b[0;34m(\u001b[0m\u001b[0mself\u001b[0m\u001b[0;34m,\u001b[0m \u001b[0mother\u001b[0m\u001b[0;34m,\u001b[0m \u001b[0mlsuffix\u001b[0m\u001b[0;34m=\u001b[0m\u001b[0;34m''\u001b[0m\u001b[0;34m,\u001b[0m \u001b[0mrsuffix\u001b[0m\u001b[0;34m=\u001b[0m\u001b[0;34m''\u001b[0m\u001b[0;34m)\u001b[0m\u001b[0;34m:\u001b[0m\u001b[0;34m\u001b[0m\u001b[0;34m\u001b[0m\u001b[0m\n",
      "\u001b[0;32m/opt/conda/lib/python3.6/site-packages/pandas/core/internals/managers.py\u001b[0m in \u001b[0;36mreindex_indexer\u001b[0;34m(self, new_axis, indexer, axis, fill_value, allow_dups, copy)\u001b[0m\n\u001b[1;32m   1233\u001b[0m             new_blocks = [blk.take_nd(indexer, axis=axis, fill_tuple=(\n\u001b[1;32m   1234\u001b[0m                 fill_value if fill_value is not None else blk.fill_value,))\n\u001b[0;32m-> 1235\u001b[0;31m                 for blk in self.blocks]\n\u001b[0m\u001b[1;32m   1236\u001b[0m \u001b[0;34m\u001b[0m\u001b[0m\n\u001b[1;32m   1237\u001b[0m         \u001b[0mnew_axes\u001b[0m \u001b[0;34m=\u001b[0m \u001b[0mlist\u001b[0m\u001b[0;34m(\u001b[0m\u001b[0mself\u001b[0m\u001b[0;34m.\u001b[0m\u001b[0maxes\u001b[0m\u001b[0;34m)\u001b[0m\u001b[0;34m\u001b[0m\u001b[0;34m\u001b[0m\u001b[0m\n",
      "\u001b[0;32m/opt/conda/lib/python3.6/site-packages/pandas/core/internals/managers.py\u001b[0m in \u001b[0;36m<listcomp>\u001b[0;34m(.0)\u001b[0m\n\u001b[1;32m   1233\u001b[0m             new_blocks = [blk.take_nd(indexer, axis=axis, fill_tuple=(\n\u001b[1;32m   1234\u001b[0m                 fill_value if fill_value is not None else blk.fill_value,))\n\u001b[0;32m-> 1235\u001b[0;31m                 for blk in self.blocks]\n\u001b[0m\u001b[1;32m   1236\u001b[0m \u001b[0;34m\u001b[0m\u001b[0m\n\u001b[1;32m   1237\u001b[0m         \u001b[0mnew_axes\u001b[0m \u001b[0;34m=\u001b[0m \u001b[0mlist\u001b[0m\u001b[0;34m(\u001b[0m\u001b[0mself\u001b[0m\u001b[0;34m.\u001b[0m\u001b[0maxes\u001b[0m\u001b[0;34m)\u001b[0m\u001b[0;34m\u001b[0m\u001b[0;34m\u001b[0m\u001b[0m\n",
      "\u001b[0;32m/opt/conda/lib/python3.6/site-packages/pandas/core/internals/blocks.py\u001b[0m in \u001b[0;36mtake_nd\u001b[0;34m(self, indexer, axis, new_mgr_locs, fill_tuple)\u001b[0m\n\u001b[1;32m   1236\u001b[0m             \u001b[0mfill_value\u001b[0m \u001b[0;34m=\u001b[0m \u001b[0mfill_tuple\u001b[0m\u001b[0;34m[\u001b[0m\u001b[0;36m0\u001b[0m\u001b[0;34m]\u001b[0m\u001b[0;34m\u001b[0m\u001b[0;34m\u001b[0m\u001b[0m\n\u001b[1;32m   1237\u001b[0m             new_values = algos.take_nd(values, indexer, axis=axis,\n\u001b[0;32m-> 1238\u001b[0;31m                                        allow_fill=True, fill_value=fill_value)\n\u001b[0m\u001b[1;32m   1239\u001b[0m \u001b[0;34m\u001b[0m\u001b[0m\n\u001b[1;32m   1240\u001b[0m         \u001b[0;32mif\u001b[0m \u001b[0mnew_mgr_locs\u001b[0m \u001b[0;32mis\u001b[0m \u001b[0;32mNone\u001b[0m\u001b[0;34m:\u001b[0m\u001b[0;34m\u001b[0m\u001b[0;34m\u001b[0m\u001b[0m\n",
      "\u001b[0;32m/opt/conda/lib/python3.6/site-packages/pandas/core/algorithms.py\u001b[0m in \u001b[0;36mtake_nd\u001b[0;34m(arr, indexer, axis, out, fill_value, mask_info, allow_fill)\u001b[0m\n\u001b[1;32m   1586\u001b[0m     \u001b[0;32melif\u001b[0m \u001b[0mis_datetime64tz_dtype\u001b[0m\u001b[0;34m(\u001b[0m\u001b[0marr\u001b[0m\u001b[0;34m)\u001b[0m\u001b[0;34m:\u001b[0m\u001b[0;34m\u001b[0m\u001b[0;34m\u001b[0m\u001b[0m\n\u001b[1;32m   1587\u001b[0m         \u001b[0;32mreturn\u001b[0m \u001b[0marr\u001b[0m\u001b[0;34m.\u001b[0m\u001b[0mtake\u001b[0m\u001b[0;34m(\u001b[0m\u001b[0mindexer\u001b[0m\u001b[0;34m,\u001b[0m \u001b[0mfill_value\u001b[0m\u001b[0;34m=\u001b[0m\u001b[0mfill_value\u001b[0m\u001b[0;34m,\u001b[0m \u001b[0mallow_fill\u001b[0m\u001b[0;34m=\u001b[0m\u001b[0mallow_fill\u001b[0m\u001b[0;34m)\u001b[0m\u001b[0;34m\u001b[0m\u001b[0;34m\u001b[0m\u001b[0m\n\u001b[0;32m-> 1588\u001b[0;31m     \u001b[0;32melif\u001b[0m \u001b[0mis_interval_dtype\u001b[0m\u001b[0;34m(\u001b[0m\u001b[0marr\u001b[0m\u001b[0;34m)\u001b[0m\u001b[0;34m:\u001b[0m\u001b[0;34m\u001b[0m\u001b[0;34m\u001b[0m\u001b[0m\n\u001b[0m\u001b[1;32m   1589\u001b[0m         \u001b[0;32mreturn\u001b[0m \u001b[0marr\u001b[0m\u001b[0;34m.\u001b[0m\u001b[0mtake\u001b[0m\u001b[0;34m(\u001b[0m\u001b[0mindexer\u001b[0m\u001b[0;34m,\u001b[0m \u001b[0mfill_value\u001b[0m\u001b[0;34m=\u001b[0m\u001b[0mfill_value\u001b[0m\u001b[0;34m,\u001b[0m \u001b[0mallow_fill\u001b[0m\u001b[0;34m=\u001b[0m\u001b[0mallow_fill\u001b[0m\u001b[0;34m)\u001b[0m\u001b[0;34m\u001b[0m\u001b[0;34m\u001b[0m\u001b[0m\n\u001b[1;32m   1590\u001b[0m \u001b[0;34m\u001b[0m\u001b[0m\n",
      "\u001b[0;32m/opt/conda/lib/python3.6/site-packages/pandas/core/dtypes/common.py\u001b[0m in \u001b[0;36mis_interval_dtype\u001b[0;34m(arr_or_dtype)\u001b[0m\n\u001b[1;32m    567\u001b[0m     \u001b[0;32mif\u001b[0m \u001b[0marr_or_dtype\u001b[0m \u001b[0;32mis\u001b[0m \u001b[0;32mNone\u001b[0m\u001b[0;34m:\u001b[0m\u001b[0;34m\u001b[0m\u001b[0;34m\u001b[0m\u001b[0m\n\u001b[1;32m    568\u001b[0m         \u001b[0;32mreturn\u001b[0m \u001b[0;32mFalse\u001b[0m\u001b[0;34m\u001b[0m\u001b[0;34m\u001b[0m\u001b[0m\n\u001b[0;32m--> 569\u001b[0;31m     \u001b[0;32mreturn\u001b[0m \u001b[0mIntervalDtype\u001b[0m\u001b[0;34m.\u001b[0m\u001b[0mis_dtype\u001b[0m\u001b[0;34m(\u001b[0m\u001b[0marr_or_dtype\u001b[0m\u001b[0;34m)\u001b[0m\u001b[0;34m\u001b[0m\u001b[0;34m\u001b[0m\u001b[0m\n\u001b[0m\u001b[1;32m    570\u001b[0m \u001b[0;34m\u001b[0m\u001b[0m\n\u001b[1;32m    571\u001b[0m \u001b[0;34m\u001b[0m\u001b[0m\n",
      "\u001b[0;32m/opt/conda/lib/python3.6/site-packages/pandas/core/dtypes/dtypes.py\u001b[0m in \u001b[0;36mis_dtype\u001b[0;34m(cls, dtype)\u001b[0m\n\u001b[1;32m    978\u001b[0m         \"\"\"\n\u001b[1;32m    979\u001b[0m \u001b[0;34m\u001b[0m\u001b[0m\n\u001b[0;32m--> 980\u001b[0;31m         \u001b[0;32mif\u001b[0m \u001b[0misinstance\u001b[0m\u001b[0;34m(\u001b[0m\u001b[0mdtype\u001b[0m\u001b[0;34m,\u001b[0m \u001b[0mcompat\u001b[0m\u001b[0;34m.\u001b[0m\u001b[0mstring_types\u001b[0m\u001b[0;34m)\u001b[0m\u001b[0;34m:\u001b[0m\u001b[0;34m\u001b[0m\u001b[0;34m\u001b[0m\u001b[0m\n\u001b[0m\u001b[1;32m    981\u001b[0m             \u001b[0;32mif\u001b[0m \u001b[0mdtype\u001b[0m\u001b[0;34m.\u001b[0m\u001b[0mlower\u001b[0m\u001b[0;34m(\u001b[0m\u001b[0;34m)\u001b[0m\u001b[0;34m.\u001b[0m\u001b[0mstartswith\u001b[0m\u001b[0;34m(\u001b[0m\u001b[0;34m'interval'\u001b[0m\u001b[0;34m)\u001b[0m\u001b[0;34m:\u001b[0m\u001b[0;34m\u001b[0m\u001b[0;34m\u001b[0m\u001b[0m\n\u001b[1;32m    982\u001b[0m                 \u001b[0;32mtry\u001b[0m\u001b[0;34m:\u001b[0m\u001b[0;34m\u001b[0m\u001b[0;34m\u001b[0m\u001b[0m\n",
      "\u001b[0;31mKeyboardInterrupt\u001b[0m: "
     ]
    }
   ],
   "source": [
    "need_columns = [\"ImageID\", \"LabelName\"]\n",
    "df_org_train = pd.read_csv(org_train_csv, header=0, usecols=need_columns)\n",
    "df_org_train['ClassName'] = df_org_train['LabelName'].agg(\n",
    "    lambda x: df_all_classes.loc[df_all_classes[df_all_classes['LabelName'] == x].index[0], \"ClassName\"])"
   ]
  },
  {
   "cell_type": "code",
   "execution_count": null,
   "metadata": {},
   "outputs": [],
   "source": [
    "display(df_org_test[\"ClassName\"].value_counts())\n",
    "display(df_org_test[\"ClassName\"].value_counts(normalize=True))\n",
    "print(f\"the number of images: {len(df_org_test.index.unique())}\")"
   ]
  },
  {
   "cell_type": "code",
   "execution_count": 44,
   "metadata": {
    "collapsed": false,
    "jupyter": {
     "outputs_hidden": false
    },
    "pycharm": {
     "name": "#%%\n"
    }
   },
   "outputs": [
    {
     "data": {
      "image/png": "[encoded data removed]",
      "text/plain": [
       "<Figure size 360x360 with 1 Axes>"
      ]
     },
     "metadata": {
      "needs_background": "light"
     },
     "output_type": "display_data"
    }
   ],
   "source": [
    "sns.catplot(data=df, x=\"ClassName\", kind=\"count\")\n",
    "plt.show()"
   ]
  },
  {
   "cell_type": "code",
   "execution_count": null,
   "metadata": {},
   "outputs": [],
   "source": [
    "need_columns = [\"ImageID\", \"LabelName\"]\n",
    "df_org_train = pd.read_csv(org_train_csv, header=0, usecols=need_columns)\n",
    "df_org_train['ClassName'] = df_org_train['LabelName'].agg(\n",
    "    lambda x: df_all_classes.loc[df_all_classes[df_all_classes['LabelName'] == x].index[0], \"ClassName\"])"
   ]
  },
  {
   "cell_type": "code",
   "execution_count": null,
   "metadata": {},
   "outputs": [],
   "source": [
    "display(df_oid_all[\"ClassName\"].value_counts())\n",
    "display(df_oid_all[\"ClassName\"].value_counts(normalize=True))\n",
    "print(f\"the number of images: {len(df_oid_all.index.unique())}\")"
   ]
  },
  {
   "cell_type": "markdown",
   "metadata": {},
   "source": [
    "# analyzing after shrink"
   ]
  },
  {
   "cell_type": "code",
   "execution_count": 356,
   "metadata": {},
   "outputs": [],
   "source": [
    "oid_path = \"/workspace/open_images_dataset_v6/subset_600\""
   ]
  },
  {
   "cell_type": "code",
   "execution_count": 357,
   "metadata": {},
   "outputs": [],
   "source": [
    "oid_class_csv = oid_path + '/class-descriptions-boxable.csv'\n",
    "\n",
    "class_names = ['Human face', 'Vehicle registration plate']\n",
    "df_all_classes = pd.read_csv(oid_class_csv, names=['LabelName', 'ClassName'])\n",
    "df_classes = df_all_classes[df_all_classes['ClassName'].isin(class_names)].copy()\n",
    "df_classes['order'] = df_classes['ClassName'].apply(lambda x: class_names.index(x))\n",
    "df_classes.sort_values('order', inplace=True)\n",
    "df_classes.reset_index(drop=True, inplace=True)\n",
    "df_classes.drop(columns='order', inplace=True)"
   ]
  },
  {
   "cell_type": "code",
   "execution_count": 358,
   "metadata": {},
   "outputs": [],
   "source": [
    "oid_train_csv = oid_path + '/oidv6-train-annotations-bbox_selected.csv'\n",
    "oid_val_csv = oid_path + '/validation-annotations-bbox_selected.csv'\n",
    "oid_test_csv = oid_path + '/test-annotations-bbox_selected.csv'"
   ]
  },
  {
   "cell_type": "code",
   "execution_count": 359,
   "metadata": {},
   "outputs": [],
   "source": [
    "def set_dataset_type(df, dataset_type, df_class):\n",
    "    df['set'] = dataset_type\n",
    "    df = df.set_index(\"ImageID\")\n",
    "    df['ClassName'] = df['LabelName'].agg(lambda x: df_class.loc[df_class[df_class['LabelName'] == x].index[0], \"ClassName\"])\n",
    "    return df"
   ]
  },
  {
   "cell_type": "code",
   "execution_count": 360,
   "metadata": {},
   "outputs": [],
   "source": [
    "def read_csv_chunk(csv_file, dataset_type, df_class):\n",
    "    futures = []\n",
    "    with ProcessPoolExecutor(max_workers=os.cpu_count()) as executor:\n",
    "        use_columns = [\"ImageID\", \"LabelName\"]\n",
    "        df_rest = None\n",
    "        for index, df_bbox in enumerate(pd.read_csv(csv_file, header=0, usecols=use_columns, chunksize=10000)):\n",
    "            df, df_last = split_last_df_image(df_bbox)\n",
    "            if df_rest is not None:\n",
    "                df = pd.concat([df_rest, df])\n",
    "            df_rest = df_last\n",
    "            future = executor.submit(set_dataset_type, df, dataset_type, df_class)\n",
    "            futures.append(future)\n",
    "    concurrent.futures.wait(futures, timeout=None)\n",
    "    df_list = [future.result() for future in concurrent.futures.as_completed(futures)]\n",
    "    df_csv_all = pd.DataFrame(data=None)\n",
    "    for df in df_list:\n",
    "        df_csv_all = pd.concat([df_csv_all, df])\n",
    "    return df_csv_all"
   ]
  },
  {
   "cell_type": "code",
   "execution_count": 361,
   "metadata": {},
   "outputs": [],
   "source": [
    "df_oid_train = read_csv_chunk(oid_train_csv, 'train', df_classes)"
   ]
  },
  {
   "cell_type": "code",
   "execution_count": 362,
   "metadata": {},
   "outputs": [],
   "source": [
    "df_oid_val = read_csv_chunk(oid_val_csv, 'val', df_classes)\n",
    "df_oid_test = read_csv_chunk(oid_test_csv, 'test', df_classes)"
   ]
  },
  {
   "cell_type": "code",
   "execution_count": 363,
   "metadata": {},
   "outputs": [],
   "source": [
    "df_oid_all = pd.concat([df_oid_train, df_oid_val, df_oid_test])"
   ]
  },
  {
   "cell_type": "code",
   "execution_count": 364,
   "metadata": {},
   "outputs": [
    {
     "data": {
      "text/html": [
       "<div>\n",
       "<style scoped>\n",
       "    .dataframe tbody tr th:only-of-type {\n",
       "        vertical-align: middle;\n",
       "    }\n",
       "\n",
       "    .dataframe tbody tr th {\n",
       "        vertical-align: top;\n",
       "    }\n",
       "\n",
       "    .dataframe thead th {\n",
       "        text-align: right;\n",
       "    }\n",
       "</style>\n",
       "<table border=\"1\" class=\"dataframe\">\n",
       "  <thead>\n",
       "    <tr style=\"text-align: right;\">\n",
       "      <th></th>\n",
       "      <th>LabelName</th>\n",
       "      <th>set</th>\n",
       "      <th>ClassName</th>\n",
       "    </tr>\n",
       "    <tr>\n",
       "      <th>ImageID</th>\n",
       "      <th></th>\n",
       "      <th></th>\n",
       "      <th></th>\n",
       "    </tr>\n",
       "  </thead>\n",
       "  <tbody>\n",
       "    <tr>\n",
       "      <th>cc4f0f9b6fe798d7</th>\n",
       "      <td>/m/0dzct</td>\n",
       "      <td>train</td>\n",
       "      <td>Human face</td>\n",
       "    </tr>\n",
       "    <tr>\n",
       "      <th>cc4f0f9b6fe798d7</th>\n",
       "      <td>/m/0dzct</td>\n",
       "      <td>train</td>\n",
       "      <td>Human face</td>\n",
       "    </tr>\n",
       "    <tr>\n",
       "      <th>cc4f0f9b6fe798d7</th>\n",
       "      <td>/m/0dzct</td>\n",
       "      <td>train</td>\n",
       "      <td>Human face</td>\n",
       "    </tr>\n",
       "    <tr>\n",
       "      <th>cc4f0f9b6fe798d7</th>\n",
       "      <td>/m/0dzct</td>\n",
       "      <td>train</td>\n",
       "      <td>Human face</td>\n",
       "    </tr>\n",
       "    <tr>\n",
       "      <th>cc4f0f9b6fe798d7</th>\n",
       "      <td>/m/0dzct</td>\n",
       "      <td>train</td>\n",
       "      <td>Human face</td>\n",
       "    </tr>\n",
       "  </tbody>\n",
       "</table>\n",
       "</div>"
      ],
      "text/plain": [
       "                 LabelName    set   ClassName\n",
       "ImageID                                      \n",
       "cc4f0f9b6fe798d7  /m/0dzct  train  Human face\n",
       "cc4f0f9b6fe798d7  /m/0dzct  train  Human face\n",
       "cc4f0f9b6fe798d7  /m/0dzct  train  Human face\n",
       "cc4f0f9b6fe798d7  /m/0dzct  train  Human face\n",
       "cc4f0f9b6fe798d7  /m/0dzct  train  Human face"
      ]
     },
     "execution_count": 364,
     "metadata": {},
     "output_type": "execute_result"
    }
   ],
   "source": [
    "df_oid_all.head()"
   ]
  },
  {
   "cell_type": "code",
   "execution_count": 365,
   "metadata": {},
   "outputs": [],
   "source": [
    "class_order = [\"Human face\", \"Vehicle registration plate\"]"
   ]
  },
  {
   "cell_type": "code",
   "execution_count": 366,
   "metadata": {},
   "outputs": [
    {
     "data": {
      "text/plain": [
       "Human face                    39745\n",
       "Vehicle registration plate    11681\n",
       "Name: ClassName, dtype: int64"
      ]
     },
     "metadata": {},
     "output_type": "display_data"
    },
    {
     "data": {
      "text/plain": [
       "Human face                    0.772858\n",
       "Vehicle registration plate    0.227142\n",
       "Name: ClassName, dtype: float64"
      ]
     },
     "metadata": {},
     "output_type": "display_data"
    },
    {
     "name": "stdout",
     "output_type": "stream",
     "text": [
      "the number of images: 23358\n"
     ]
    }
   ],
   "source": [
    "display(df_oid_all[\"ClassName\"].value_counts())\n",
    "display(df_oid_all[\"ClassName\"].value_counts(normalize=True))\n",
    "print(f\"the number of images: {len(df_oid_all.index.unique())}\")"
   ]
  },
  {
   "cell_type": "code",
   "execution_count": 367,
   "metadata": {},
   "outputs": [
    {
     "data": {
      "image/png": "[encoded data removed]",
      "text/plain": [
       "<Figure size 360x360 with 1 Axes>"
      ]
     },
     "metadata": {
      "needs_background": "light"
     },
     "output_type": "display_data"
    }
   ],
   "source": [
    "sns.catplot(data=df_oid_all, x=\"ClassName\", kind=\"count\", order=class_order)\n",
    "plt.show()"
   ]
  },
  {
   "cell_type": "code",
   "execution_count": 368,
   "metadata": {},
   "outputs": [
    {
     "data": {
      "text/plain": [
       "Human face                    31308\n",
       "Vehicle registration plate     7851\n",
       "Name: ClassName, dtype: int64"
      ]
     },
     "metadata": {},
     "output_type": "display_data"
    },
    {
     "data": {
      "text/plain": [
       "Human face                    0.79951\n",
       "Vehicle registration plate    0.20049\n",
       "Name: ClassName, dtype: float64"
      ]
     },
     "metadata": {},
     "output_type": "display_data"
    },
    {
     "name": "stdout",
     "output_type": "stream",
     "text": [
      "the number of images: 17090\n"
     ]
    },
    {
     "data": {
      "image/png": "[encoded data removed]",
      "text/plain": [
       "<Figure size 360x360 with 1 Axes>"
      ]
     },
     "metadata": {
      "needs_background": "light"
     },
     "output_type": "display_data"
    }
   ],
   "source": [
    "df_oid_train = df_oid_all[df_oid_all[\"set\"] == \"train\"]\n",
    "display(df_oid_train[\"ClassName\"].value_counts())\n",
    "display(df_oid_train[\"ClassName\"].value_counts(normalize=True))\n",
    "print(f\"the number of images: {len(df_oid_train.index.unique())}\")\n",
    "sns.catplot(data=df_oid_train, x=\"ClassName\", kind=\"count\", order=class_order)\n",
    "plt.show()"
   ]
  },
  {
   "cell_type": "code",
   "execution_count": 369,
   "metadata": {},
   "outputs": [
    {
     "data": {
      "text/plain": [
       "Vehicle registration plate    987\n",
       "Human face                    548\n",
       "Name: ClassName, dtype: int64"
      ]
     },
     "metadata": {},
     "output_type": "display_data"
    },
    {
     "data": {
      "text/plain": [
       "Vehicle registration plate    0.642997\n",
       "Human face                    0.357003\n",
       "Name: ClassName, dtype: float64"
      ]
     },
     "metadata": {},
     "output_type": "display_data"
    },
    {
     "name": "stdout",
     "output_type": "stream",
     "text": [
      "the number of images: 986\n"
     ]
    },
    {
     "data": {
      "image/png": "[encoded data removed]",
      "text/plain": [
       "<Figure size 360x360 with 1 Axes>"
      ]
     },
     "metadata": {
      "needs_background": "light"
     },
     "output_type": "display_data"
    }
   ],
   "source": [
    "df_oid_val = df_oid_all[df_oid_all[\"set\"] == \"val\"]\n",
    "display(df_oid_val[\"ClassName\"].value_counts())\n",
    "display(df_oid_val[\"ClassName\"].value_counts(normalize=True))\n",
    "print(f\"the number of images: {len(df_oid_val.index.unique())}\")\n",
    "sns.catplot(data=df_oid_val, x=\"ClassName\", kind=\"count\", order=class_order)\n",
    "plt.show()"
   ]
  },
  {
   "cell_type": "code",
   "execution_count": 370,
   "metadata": {},
   "outputs": [
    {
     "data": {
      "text/plain": [
       "Human face                    31856\n",
       "Vehicle registration plate     8838\n",
       "Name: ClassName, dtype: int64"
      ]
     },
     "metadata": {},
     "output_type": "display_data"
    },
    {
     "data": {
      "text/plain": [
       "Human face                    0.782818\n",
       "Vehicle registration plate    0.217182\n",
       "Name: ClassName, dtype: float64"
      ]
     },
     "metadata": {},
     "output_type": "display_data"
    },
    {
     "name": "stdout",
     "output_type": "stream",
     "text": [
      "the number of images: 18076\n"
     ]
    },
    {
     "data": {
      "image/png": "[encoded data removed]",
      "text/plain": [
       "<Figure size 360x360 with 1 Axes>"
      ]
     },
     "metadata": {
      "needs_background": "light"
     },
     "output_type": "display_data"
    }
   ],
   "source": [
    "df_oid_train_val = pd.concat([df_oid_train, df_oid_val])\n",
    "display(df_oid_train_val[\"ClassName\"].value_counts())\n",
    "display(df_oid_train_val[\"ClassName\"].value_counts(normalize=True))\n",
    "print(f\"the number of images: {len(df_oid_train_val.index.unique())}\")\n",
    "sns.catplot(data=df_oid_train_val, x=\"ClassName\", kind=\"count\", order=class_order)\n",
    "plt.show()"
   ]
  },
  {
   "cell_type": "code",
   "execution_count": 371,
   "metadata": {},
   "outputs": [
    {
     "data": {
      "text/plain": [
       "Human face                    7889\n",
       "Vehicle registration plate    2843\n",
       "Name: ClassName, dtype: int64"
      ]
     },
     "metadata": {},
     "output_type": "display_data"
    },
    {
     "data": {
      "text/plain": [
       "Human face                    0.735091\n",
       "Vehicle registration plate    0.264909\n",
       "Name: ClassName, dtype: float64"
      ]
     },
     "metadata": {},
     "output_type": "display_data"
    },
    {
     "name": "stdout",
     "output_type": "stream",
     "text": [
      "the number of images: 5282\n"
     ]
    },
    {
     "data": {
      "image/png": "[encoded data removed]",
      "text/plain": [
       "<Figure size 360x360 with 1 Axes>"
      ]
     },
     "metadata": {
      "needs_background": "light"
     },
     "output_type": "display_data"
    }
   ],
   "source": [
    "df_oid_test = df_oid_all[df_oid_all[\"set\"] == \"test\"]\n",
    "display(df_oid_test[\"ClassName\"].value_counts())\n",
    "display(df_oid_test[\"ClassName\"].value_counts(normalize=True))\n",
    "print(f\"the number of images: {len(df_oid_test.index.unique())}\")\n",
    "sns.catplot(data=df_oid_test, x=\"ClassName\", kind=\"count\", order=class_order)\n",
    "plt.show()"
   ]
  },
  {
   "cell_type": "markdown",
   "metadata": {},
   "source": [
    "# Label to dataframe"
   ]
  },
  {
   "cell_type": "code",
   "execution_count": 200,
   "metadata": {
    "collapsed": false,
    "jupyter": {
     "outputs_hidden": false
    },
    "pycharm": {
     "name": "#%%\n"
    }
   },
   "outputs": [],
   "source": [
    "def yolo_labels_to_dataframe(labels_path):\n",
    "    df_all = pd.DataFrame(data=None)\n",
    "    for label_path in labels_path:\n",
    "        image_id = os.path.splitext(os.path.basename(label_path))[0]\n",
    "        df = pd.read_csv(label_path, header=None, delimiter=' ', names=['class_index', 'x_center', 'y_center', 'width', 'height'])\n",
    "        df['image_id'] = image_id\n",
    "        df = df.set_index('image_id')\n",
    "        df_all = pd.concat([df_all, df])\n",
    "    return df_all\n",
    "\n",
    "def display_yolo_anntation(labels_dir):\n",
    "    labels_all_path = [p for p in glob.glob(labels_dir + '/**', recursive=True) if re.search('.txt', p)]\n",
    "    futures = []\n",
    "    with ProcessPoolExecutor(max_workers=os.cpu_count()) as executor:\n",
    "        for labels_path in chunked(labels_all_path, 500):\n",
    "            future = executor.submit(yolo_labels_to_dataframe, labels_path)\n",
    "            futures.append(future)\n",
    "    concurrent.futures.wait(futures, timeout=None)\n",
    "    df_list = [future.result() for future in concurrent.futures.as_completed(futures)]\n",
    "    df_all = pd.DataFrame(data=None)\n",
    "    for df in df_list:\n",
    "        df_all = pd.concat([df_all, df])\n",
    "    return df_all"
   ]
  },
  {
   "cell_type": "code",
   "execution_count": 201,
   "metadata": {
    "collapsed": false,
    "jupyter": {
     "outputs_hidden": false
    },
    "pycharm": {
     "name": "#%%\n"
    }
   },
   "outputs": [
    {
     "name": "stdout",
     "output_type": "stream",
     "text": [
      "the number of images: 0\n"
     ]
    }
   ],
   "source": [
    "train_dir = \"yolo/labels/train\"\n",
    "df_train = display_yolo_anntation(train_dir)\n",
    "df_train['set'] = 'train'\n",
    "print(f\"the number of images: {len(df_train.index.unique())}\")"
   ]
  },
  {
   "cell_type": "code",
   "execution_count": 202,
   "metadata": {},
   "outputs": [],
   "source": [
    "val_dir = \"yolo/labels/val\"\n",
    "df_val = display_yolo_anntation(val_dir)\n",
    "df_val['set'] = 'val'"
   ]
  },
  {
   "cell_type": "code",
   "execution_count": 203,
   "metadata": {},
   "outputs": [],
   "source": [
    "test_dir = \"yolo/labels/test\"\n",
    "df_test = display_yolo_anntation(test_dir)\n",
    "df_test['set'] = 'test'"
   ]
  },
  {
   "cell_type": "code",
   "execution_count": 11,
   "metadata": {},
   "outputs": [],
   "source": [
    "class_order = [\"Human face\", \"Vehicle registration plate\"]"
   ]
  },
  {
   "cell_type": "code",
   "execution_count": 12,
   "metadata": {
    "collapsed": false,
    "jupyter": {
     "outputs_hidden": false
    },
    "pycharm": {
     "name": "#%%\n"
    }
   },
   "outputs": [
    {
     "data": {
      "text/plain": [
       "Human face                    77750\n",
       "Vehicle registration plate    11682\n",
       "Name: class_name, dtype: int64"
      ]
     },
     "metadata": {},
     "output_type": "display_data"
    },
    {
     "data": {
      "text/plain": [
       "Human face                    0.869376\n",
       "Vehicle registration plate    0.130624\n",
       "Name: class_name, dtype: float64"
      ]
     },
     "metadata": {},
     "output_type": "display_data"
    },
    {
     "name": "stdout",
     "output_type": "stream",
     "text": [
      "the number of images: 37310\n"
     ]
    },
    {
     "data": {
      "image/png": "[encoded data removed]",
      "text/plain": [
       "<Figure size 360x360 with 1 Axes>"
      ]
     },
     "metadata": {
      "needs_background": "light"
     },
     "output_type": "display_data"
    }
   ],
   "source": [
    "df_all = pd.concat([df_train, df_val, df_test])\n",
    "df_all.reset_index()\n",
    "df_all['class_name'] = df_all['class_index'].agg(lambda x: df_classes.loc[x, \"ClassName\"])\n",
    "display(df_all[\"class_name\"].value_counts())\n",
    "display(df_all[\"class_name\"].value_counts(normalize=True))\n",
    "print(f\"the number of images: {len(df_all.index.unique())}\")\n",
    "sns.catplot(data=df_all, x=\"class_name\", kind=\"count\", order=class_order)\n",
    "plt.show()"
   ]
  },
  {
   "cell_type": "code",
   "execution_count": 13,
   "metadata": {},
   "outputs": [
    {
     "data": {
      "text/plain": [
       "Human face                    62584\n",
       "Vehicle registration plate     8000\n",
       "Name: class_name, dtype: int64"
      ]
     },
     "metadata": {},
     "output_type": "display_data"
    },
    {
     "data": {
      "text/plain": [
       "Human face                    0.88666\n",
       "Vehicle registration plate    0.11334\n",
       "Name: class_name, dtype: float64"
      ]
     },
     "metadata": {},
     "output_type": "display_data"
    },
    {
     "name": "stdout",
     "output_type": "stream",
     "text": [
      "the number of images: 28824\n"
     ]
    },
    {
     "data": {
      "image/png": "[encoded data removed]",
      "text/plain": [
       "<Figure size 360x360 with 1 Axes>"
      ]
     },
     "metadata": {
      "needs_background": "light"
     },
     "output_type": "display_data"
    }
   ],
   "source": [
    "df_train = df_all[df_all[\"set\"] == \"train\"]\n",
    "display(df_train[\"class_name\"].value_counts())\n",
    "display(df_train[\"class_name\"].value_counts(normalize=True))\n",
    "print(f\"the number of images: {len(df_train.index.unique())}\")\n",
    "sns.catplot(data=df_train, x=\"class_name\", kind=\"count\", order=class_order)\n",
    "plt.show()"
   ]
  },
  {
   "cell_type": "code",
   "execution_count": 14,
   "metadata": {},
   "outputs": [
    {
     "data": {
      "text/plain": [
       "Human face                    7276\n",
       "Vehicle registration plate     839\n",
       "Name: class_name, dtype: int64"
      ]
     },
     "metadata": {},
     "output_type": "display_data"
    },
    {
     "data": {
      "text/plain": [
       "Human face                    0.896611\n",
       "Vehicle registration plate    0.103389\n",
       "Name: class_name, dtype: float64"
      ]
     },
     "metadata": {},
     "output_type": "display_data"
    },
    {
     "name": "stdout",
     "output_type": "stream",
     "text": [
      "the number of images: 3203\n"
     ]
    },
    {
     "data": {
      "image/png": "[encoded data removed]",
      "text/plain": [
       "<Figure size 360x360 with 1 Axes>"
      ]
     },
     "metadata": {
      "needs_background": "light"
     },
     "output_type": "display_data"
    }
   ],
   "source": [
    "df_val = df_all[df_all[\"set\"] == \"val\"]\n",
    "display(df_val[\"class_name\"].value_counts())\n",
    "display(df_val[\"class_name\"].value_counts(normalize=True))\n",
    "print(f\"the number of images: {len(df_val.index.unique())}\")\n",
    "sns.catplot(data=df_val, x=\"class_name\", kind=\"count\", order=class_order)\n",
    "plt.show()"
   ]
  },
  {
   "cell_type": "code",
   "execution_count": 15,
   "metadata": {},
   "outputs": [
    {
     "data": {
      "text/plain": [
       "Human face                    7890\n",
       "Vehicle registration plate    2843\n",
       "Name: class_name, dtype: int64"
      ]
     },
     "metadata": {},
     "output_type": "display_data"
    },
    {
     "data": {
      "text/plain": [
       "Human face                    0.735116\n",
       "Vehicle registration plate    0.264884\n",
       "Name: class_name, dtype: float64"
      ]
     },
     "metadata": {},
     "output_type": "display_data"
    },
    {
     "name": "stdout",
     "output_type": "stream",
     "text": [
      "the number of images: 5283\n"
     ]
    },
    {
     "data": {
      "image/png": "[encoded data removed]",
      "text/plain": [
       "<Figure size 360x360 with 1 Axes>"
      ]
     },
     "metadata": {
      "needs_background": "light"
     },
     "output_type": "display_data"
    }
   ],
   "source": [
    "df_test = df_all[df_all[\"set\"] == \"test\"]\n",
    "display(df_test[\"class_name\"].value_counts())\n",
    "display(df_test[\"class_name\"].value_counts(normalize=True))\n",
    "print(f\"the number of images: {len(df_test.index.unique())}\")\n",
    "sns.catplot(data = df_test, x = \"class_name\", kind=\"count\", order=class_order)\n",
    "plt.show()"
   ]
  },
  {
   "cell_type": "code",
   "execution_count": null,
   "metadata": {},
   "outputs": [],
   "source": []
  },
  {
   "cell_type": "code",
   "execution_count": null,
   "metadata": {},
   "outputs": [],
   "source": []
  }
 ],
 "metadata": {
  "kernelspec": {
   "display_name": "Python 3",
   "language": "python",
   "name": "python3"
  },
  "language_info": {
   "codemirror_mode": {
    "name": "ipython",
    "version": 3
   },
   "file_extension": ".py",
   "mimetype": "text/x-python",
   "name": "python",
   "nbconvert_exporter": "python",
   "pygments_lexer": "ipython3",
   "version": "3.6.9"
  }
 },
 "nbformat": 4,
 "nbformat_minor": 4
}
