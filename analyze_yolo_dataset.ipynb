{
 "cells": [
  {
   "cell_type": "code",
   "execution_count": 1,
   "metadata": {},
   "outputs": [
    {
     "name": "stdout",
     "output_type": "stream",
     "text": [
      "Collecting seaborn\n",
      "  Downloading seaborn-0.10.1-py3-none-any.whl (215 kB)\n",
      "\u001b[K     |████████████████████████████████| 215 kB 8.3 MB/s eta 0:00:01\n",
      "\u001b[?25hRequirement already satisfied: numpy>=1.13.3 in /opt/conda/lib/python3.6/site-packages (from seaborn) (1.18.1)\n",
      "Requirement already satisfied: scipy>=1.0.1 in /opt/conda/lib/python3.6/site-packages (from seaborn) (1.4.1)\n",
      "Requirement already satisfied: pandas>=0.22.0 in /opt/conda/lib/python3.6/site-packages (from seaborn) (0.24.2)\n",
      "Requirement already satisfied: matplotlib>=2.1.2 in /opt/conda/lib/python3.6/site-packages (from seaborn) (3.2.1)\n",
      "Requirement already satisfied: python-dateutil>=2.5.0 in /opt/conda/lib/python3.6/site-packages (from pandas>=0.22.0->seaborn) (2.8.1)\n",
      "Requirement already satisfied: pytz>=2011k in /opt/conda/lib/python3.6/site-packages (from pandas>=0.22.0->seaborn) (2019.3)\n",
      "Requirement already satisfied: kiwisolver>=1.0.1 in /opt/conda/lib/python3.6/site-packages (from matplotlib>=2.1.2->seaborn) (1.1.0)\n",
      "Requirement already satisfied: cycler>=0.10 in /opt/conda/lib/python3.6/site-packages (from matplotlib>=2.1.2->seaborn) (0.10.0)\n",
      "Requirement already satisfied: pyparsing!=2.0.4,!=2.1.2,!=2.1.6,>=2.0.1 in /opt/conda/lib/python3.6/site-packages (from matplotlib>=2.1.2->seaborn) (2.4.6)\n",
      "Requirement already satisfied: six>=1.5 in /opt/conda/lib/python3.6/site-packages (from python-dateutil>=2.5.0->pandas>=0.22.0->seaborn) (1.14.0)\n",
      "Requirement already satisfied: setuptools in /opt/conda/lib/python3.6/site-packages (from kiwisolver>=1.0.1->matplotlib>=2.1.2->seaborn) (45.2.0.post20200210)\n",
      "Installing collected packages: seaborn\n",
      "Successfully installed seaborn-0.10.1\n",
      "Requirement already satisfied: matplotlib in /opt/conda/lib/python3.6/site-packages (3.2.1)\n",
      "Requirement already satisfied: numpy>=1.11 in /opt/conda/lib/python3.6/site-packages (from matplotlib) (1.18.1)\n",
      "Requirement already satisfied: kiwisolver>=1.0.1 in /opt/conda/lib/python3.6/site-packages (from matplotlib) (1.1.0)\n",
      "Requirement already satisfied: python-dateutil>=2.1 in /opt/conda/lib/python3.6/site-packages (from matplotlib) (2.8.1)\n",
      "Requirement already satisfied: cycler>=0.10 in /opt/conda/lib/python3.6/site-packages (from matplotlib) (0.10.0)\n",
      "Requirement already satisfied: pyparsing!=2.0.4,!=2.1.2,!=2.1.6,>=2.0.1 in /opt/conda/lib/python3.6/site-packages (from matplotlib) (2.4.6)\n",
      "Requirement already satisfied: setuptools in /opt/conda/lib/python3.6/site-packages (from kiwisolver>=1.0.1->matplotlib) (45.2.0.post20200210)\n",
      "Requirement already satisfied: six>=1.5 in /opt/conda/lib/python3.6/site-packages (from python-dateutil>=2.1->matplotlib) (1.14.0)\n"
     ]
    }
   ],
   "source": [
    "!pip install seaborn\n",
    "!pip install matplotlib"
   ]
  },
  {
   "cell_type": "code",
   "execution_count": 2,
   "metadata": {},
   "outputs": [],
   "source": [
    "import os\n",
    "import glob\n",
    "import re\n",
    "import pandas as pd\n",
    "import concurrent.futures\n",
    "from concurrent.futures import ProcessPoolExecutor\n",
    "from more_itertools import chunked\n",
    "\n",
    "import seaborn as sns\n",
    "import matplotlib.pyplot as plt"
   ]
  },
  {
   "cell_type": "code",
   "execution_count": 3,
   "metadata": {
    "collapsed": false,
    "jupyter": {
     "outputs_hidden": false
    },
    "pycharm": {
     "name": "#%%\n"
    }
   },
   "outputs": [
    {
     "name": "stdout",
     "output_type": "stream",
     "text": [
      "/workspace/oid2yolo_proj\n"
     ]
    }
   ],
   "source": [
    "%pwd\n",
    "%cd /workspace/oid2yolo_proj"
   ]
  },
  {
   "cell_type": "code",
   "execution_count": 4,
   "metadata": {},
   "outputs": [],
   "source": [
    "oid_path = \"./oid\""
   ]
  },
  {
   "cell_type": "code",
   "execution_count": 5,
   "metadata": {},
   "outputs": [],
   "source": [
    "oid_class_csv = oid_path + '/class-descriptions-boxable.csv'\n",
    "\n",
    "class_names = ['Human face', 'Vehicle registration plate']\n",
    "df_all_classes = pd.read_csv(oid_class_csv, names=['LabelName', 'ClassName'])\n",
    "df_classes = df_all_classes[df_all_classes['ClassName'].isin(class_names)].copy()\n",
    "df_classes['order'] = df_classes['ClassName'].apply(lambda x: class_names.index(x))\n",
    "df_classes.sort_values('order', inplace=True)\n",
    "df_classes.reset_index(drop=True, inplace=True)\n",
    "df_classes.drop(columns='order', inplace=True)"
   ]
  },
  {
   "cell_type": "code",
   "execution_count": 6,
   "metadata": {},
   "outputs": [],
   "source": [
    "org_train_csv = oid_path + '/oidv6-train-annotations-bbox.csv'\n",
    "org_val_csv = oid_path + '/validation-annotations-bbox.csv'\n",
    "org_test_csv = oid_path + '/test-annotations-bbox.csv'"
   ]
  },
  {
   "cell_type": "code",
   "execution_count": 51,
   "metadata": {},
   "outputs": [],
   "source": [
    "class_filter_all =  [\n",
    "    [\"Vehicle registration plate\"],\n",
    "    [\"Human face\", \"Car\"],\n",
    "    [\"Human face\", \"Vehicle\"],\n",
    "    [\"Human face\", \"Land vehicle\"],\n",
    "    [\"Human face\", \"Truck\"],\n",
    "    [\"Human face\", \"Bus\"],\n",
    "    [\"Human face\", \"Van\"],\n",
    "    [\"Human face\", \"Ambulance\"],\n",
    "    [\"Human face\", \"Limousine\"],\n",
    "    [\"Human face\", \"Taxi\"],\n",
    "    [\"Human face\", \"Bicycle\"],\n",
    "    [\"Human face\", \"Bicycle wheel\"],\n",
    "    [\"Human face\", \"Bicycle helmet\"],\n",
    "    [\"Human face\", \"Motorcycle\"],\n",
    "    [\"Human face\", \"Golf cart\"],\n",
    "    [\"Human face\", \"Traffic light\"],\n",
    "    [\"Human face\", \"Traffic sign\"],\n",
    "    [\"Human face\", \"Stop sign\"],\n",
    "    [\"Human face\", \"Parking meter\"],\n",
    "    [\"Human face\", \"Cart\"],\n",
    "    [\"Human face\", \"Street light\"],\n",
    "    [\"Human face\", \"Unicycle\"],\n",
    "    [\"Human face\", \"Skateboard\"],\n",
    "    [\"Human face\", \"Wheel\"],\n",
    "    [\"Human face\", \"Wheelchair\"],\n",
    "    [\"Human face\", \"Billboard\"],\n",
    "    [\"Human face\", \"Carnivore\"],\n",
    "    [\"Human face\", \"Fire hydrant\"],\n",
    "    [\"Human face\", \"Office building\"],\n",
    "    [\"Human face\", \"Hiking equipment\"],\n",
    "    [\"Human face\", \"Stretcher\"],\n",
    "    [\"Human face\", \"Roller skates\"],\n",
    "    [\"Human face\", \"Sun hat\"],\n",
    "    [\"Human face\", \"Helmet\"],\n",
    "    [\"Human face\", \"Sunglasses\"],\n",
    "    [\"Human face\", \"Mobile phone\"],\n",
    "    [\"Human face\", \"Briefcase\"],\n",
    "    [\"Human face\", \"Picnic basket\"],\n",
    "    [\"Human face\", \"Bench\"]\n",
    "]"
   ]
  },
  {
   "cell_type": "code",
   "execution_count": 52,
   "metadata": {},
   "outputs": [],
   "source": [
    "def split_last_df_image(df):\n",
    "    df_image = df.groupby(\"ImageID\")\n",
    "    last_image_id = df.tail(1)[\"ImageID\"]\n",
    "    last_group = df_image.get_group(*last_image_id)\n",
    "    last_group_len = len(last_group)\n",
    "    if last_group_len < len(df):\n",
    "        df.drop(df.tail(last_group_len).index, inplace=True)\n",
    "    df_rest = last_group\n",
    "    return df, df_rest"
   ]
  },
  {
   "cell_type": "code",
   "execution_count": 53,
   "metadata": {
    "collapsed": false,
    "jupyter": {
     "outputs_hidden": false
    },
    "pycharm": {
     "name": "#%%\n"
    }
   },
   "outputs": [],
   "source": [
    "def flatten_list(l):\n",
    "    for el in l:\n",
    "        if isinstance(el, list):\n",
    "            yield from flatten_list(el)\n",
    "        else:\n",
    "            yield el"
   ]
  },
  {
   "cell_type": "code",
   "execution_count": 54,
   "metadata": {
    "collapsed": false,
    "jupyter": {
     "outputs_hidden": false
    },
    "pycharm": {
     "name": "#%%\n"
    }
   },
   "outputs": [],
   "source": [
    "def image_filter_func(df, class_filter_list):\n",
    "    for class_filter in class_filter_list:\n",
    "        if set(class_filter).issubset(list(df[\"ClassName\"])):\n",
    "            return df[df['ClassName'].isin(flatten_list(class_filter_list))]\n",
    "    return None"
   ]
  },
  {
   "cell_type": "code",
   "execution_count": 55,
   "metadata": {},
   "outputs": [],
   "source": [
    "def apply_image_filter(df, class_filter_list, df_class):\n",
    "    df['ClassName'] = df['LabelName'].agg(lambda x: df_class.loc[df_class[df_class['LabelName'] == x].index[0], \"ClassName\"])\n",
    "    return df.groupby(\"ImageID\", as_index=False).apply(image_filter_func, class_filter_list=class_filter_list)"
   ]
  },
  {
   "cell_type": "code",
   "execution_count": 56,
   "metadata": {},
   "outputs": [
    {
     "name": "stderr",
     "output_type": "stream",
     "text": [
      "Traceback (most recent call last):\n",
      "  File \"/opt/conda/lib/python3.6/multiprocessing/queues.py\", line 234, in _feed\n",
      "    obj = _ForkingPickler.dumps(obj)\n",
      "  File \"/opt/conda/lib/python3.6/multiprocessing/reduction.py\", line 51, in dumps\n",
      "    cls(buf, protocol).dump(obj)\n",
      "_pickle.PicklingError: Can't pickle <function apply_image_filter at 0x7fe23dfbe6a8>: it's not the same object as __main__.apply_image_filter\n",
      "Traceback (most recent call last):\n",
      "  File \"/opt/conda/lib/python3.6/multiprocessing/queues.py\", line 234, in _feed\n",
      "    obj = _ForkingPickler.dumps(obj)\n",
      "  File \"/opt/conda/lib/python3.6/multiprocessing/reduction.py\", line 51, in dumps\n",
      "    cls(buf, protocol).dump(obj)\n",
      "_pickle.PicklingError: Can't pickle <function apply_image_filter at 0x7fe23dfbe6a8>: it's not the same object as __main__.apply_image_filter\n",
      "Traceback (most recent call last):\n",
      "  File \"/opt/conda/lib/python3.6/multiprocessing/queues.py\", line 234, in _feed\n",
      "    obj = _ForkingPickler.dumps(obj)\n",
      "  File \"/opt/conda/lib/python3.6/multiprocessing/reduction.py\", line 51, in dumps\n",
      "    cls(buf, protocol).dump(obj)\n",
      "_pickle.PicklingError: Can't pickle <function apply_image_filter at 0x7fe23dfbe6a8>: it's not the same object as __main__.apply_image_filter\n",
      "Traceback (most recent call last):\n",
      "  File \"/opt/conda/lib/python3.6/multiprocessing/queues.py\", line 234, in _feed\n",
      "    obj = _ForkingPickler.dumps(obj)\n",
      "  File \"/opt/conda/lib/python3.6/multiprocessing/reduction.py\", line 51, in dumps\n",
      "    cls(buf, protocol).dump(obj)\n",
      "_pickle.PicklingError: Can't pickle <function apply_image_filter at 0x7fe23dfbe6a8>: it's not the same object as __main__.apply_image_filter\n",
      "Traceback (most recent call last):\n",
      "  File \"/opt/conda/lib/python3.6/multiprocessing/queues.py\", line 234, in _feed\n",
      "    obj = _ForkingPickler.dumps(obj)\n",
      "  File \"/opt/conda/lib/python3.6/multiprocessing/reduction.py\", line 51, in dumps\n",
      "    cls(buf, protocol).dump(obj)\n",
      "_pickle.PicklingError: Can't pickle <function apply_image_filter at 0x7fe23dfbe6a8>: it's not the same object as __main__.apply_image_filter\n",
      "Traceback (most recent call last):\n",
      "  File \"/opt/conda/lib/python3.6/multiprocessing/queues.py\", line 234, in _feed\n",
      "    obj = _ForkingPickler.dumps(obj)\n",
      "  File \"/opt/conda/lib/python3.6/multiprocessing/reduction.py\", line 51, in dumps\n",
      "    cls(buf, protocol).dump(obj)\n",
      "_pickle.PicklingError: Can't pickle <function apply_image_filter at 0x7fe23dfbe6a8>: it's not the same object as __main__.apply_image_filter\n",
      "Traceback (most recent call last):\n",
      "  File \"/opt/conda/lib/python3.6/multiprocessing/queues.py\", line 234, in _feed\n",
      "    obj = _ForkingPickler.dumps(obj)\n",
      "  File \"/opt/conda/lib/python3.6/multiprocessing/reduction.py\", line 51, in dumps\n",
      "    cls(buf, protocol).dump(obj)\n",
      "_pickle.PicklingError: Can't pickle <function apply_image_filter at 0x7fe23dfbe6a8>: it's not the same object as __main__.apply_image_filter\n",
      "Traceback (most recent call last):\n",
      "  File \"/opt/conda/lib/python3.6/multiprocessing/queues.py\", line 234, in _feed\n",
      "    obj = _ForkingPickler.dumps(obj)\n",
      "  File \"/opt/conda/lib/python3.6/multiprocessing/reduction.py\", line 51, in dumps\n",
      "    cls(buf, protocol).dump(obj)\n",
      "_pickle.PicklingError: Can't pickle <function apply_image_filter at 0x7fe23dfbe6a8>: it's not the same object as __main__.apply_image_filter\n",
      "Traceback (most recent call last):\n",
      "  File \"/opt/conda/lib/python3.6/multiprocessing/queues.py\", line 234, in _feed\n",
      "    obj = _ForkingPickler.dumps(obj)\n",
      "  File \"/opt/conda/lib/python3.6/multiprocessing/reduction.py\", line 51, in dumps\n",
      "    cls(buf, protocol).dump(obj)\n",
      "_pickle.PicklingError: Can't pickle <function apply_image_filter at 0x7fe23dfbe6a8>: it's not the same object as __main__.apply_image_filter\n"
     ]
    }
   ],
   "source": [
    "def read_csv_chunk(csv_file, df_classes):\n",
    "    futures = []\n",
    "    with ProcessPoolExecutor(max_workers=os.cpu_count()) as executor:\n",
    "        use_columns = [\"ImageID\", \"LabelName\"]\n",
    "        df_rest = None\n",
    "        for index, df_bbox in enumerate(pd.read_csv(csv_file, header=0, usecols=use_columns, chunksize=10000)):\n",
    "            df, df_last = split_last_df_image(df_bbox)\n",
    "            if df_rest is not None:\n",
    "                df = pd.concat([df_rest, df])\n",
    "            df_rest = df_last\n",
    "            future = executor.submit(apply_image_filter, df, class_filter_all, df_classes)\n",
    "            futures.append(future)\n",
    "    concurrent.futures.wait(futures, timeout=None)\n",
    "    df_list = [future.result() for future in concurrent.futures.as_completed(futures)]\n",
    "    df_csv_all = pd.DataFrame(data=None)\n",
    "    for df in df_list:\n",
    "        df_csv_all = pd.concat([df_csv_all, df])\n",
    "    return df_csv_all"
   ]
  },
  {
   "cell_type": "code",
   "execution_count": 45,
   "metadata": {
    "collapsed": false,
    "jupyter": {
     "outputs_hidden": false
    },
    "pycharm": {
     "name": "#%%\n"
    }
   },
   "outputs": [
    {
     "ename": "KeyboardInterrupt",
     "evalue": "",
     "output_type": "error",
     "traceback": [
      "\u001b[0;31m\u001b[0m",
      "\u001b[0;31mKeyboardInterrupt\u001b[0mTraceback (most recent call last)",
      "\u001b[0;32m<ipython-input-45-83d10d3a03ad>\u001b[0m in \u001b[0;36m<module>\u001b[0;34m\u001b[0m\n\u001b[0;32m----> 1\u001b[0;31m \u001b[0mdf_org_train\u001b[0m \u001b[0;34m=\u001b[0m \u001b[0mread_csv_chunk\u001b[0m\u001b[0;34m(\u001b[0m\u001b[0morg_train_csv\u001b[0m\u001b[0;34m,\u001b[0m \u001b[0mdf_all_classes\u001b[0m\u001b[0;34m)\u001b[0m\u001b[0;34m\u001b[0m\u001b[0;34m\u001b[0m\u001b[0m\n\u001b[0m\u001b[1;32m      2\u001b[0m \u001b[0mdf_org_val\u001b[0m \u001b[0;34m=\u001b[0m \u001b[0mread_csv_chunk\u001b[0m\u001b[0;34m(\u001b[0m\u001b[0morg_val_csv\u001b[0m\u001b[0;34m,\u001b[0m \u001b[0mdf_all_classes\u001b[0m\u001b[0;34m)\u001b[0m\u001b[0;34m\u001b[0m\u001b[0;34m\u001b[0m\u001b[0m\n\u001b[1;32m      3\u001b[0m \u001b[0mdf_org_test\u001b[0m \u001b[0;34m=\u001b[0m \u001b[0mread_csv_chunk\u001b[0m\u001b[0;34m(\u001b[0m\u001b[0morg_test_csv\u001b[0m\u001b[0;34m,\u001b[0m \u001b[0mdf_all_classes\u001b[0m\u001b[0;34m)\u001b[0m\u001b[0;34m\u001b[0m\u001b[0;34m\u001b[0m\u001b[0m\n",
      "\u001b[0;32m<ipython-input-41-a0356522ff23>\u001b[0m in \u001b[0;36mread_csv_chunk\u001b[0;34m(csv_file, df_classes)\u001b[0m\n\u001b[1;32m     10\u001b[0m             \u001b[0mdf_rest\u001b[0m \u001b[0;34m=\u001b[0m \u001b[0mdf_last\u001b[0m\u001b[0;34m\u001b[0m\u001b[0;34m\u001b[0m\u001b[0m\n\u001b[1;32m     11\u001b[0m             \u001b[0mfuture\u001b[0m \u001b[0;34m=\u001b[0m \u001b[0mexecutor\u001b[0m\u001b[0;34m.\u001b[0m\u001b[0msubmit\u001b[0m\u001b[0;34m(\u001b[0m\u001b[0mapply_image_filter\u001b[0m\u001b[0;34m,\u001b[0m \u001b[0mdf\u001b[0m\u001b[0;34m,\u001b[0m \u001b[0mclass_filter_all\u001b[0m\u001b[0;34m,\u001b[0m \u001b[0mdf_classes\u001b[0m\u001b[0;34m)\u001b[0m\u001b[0;34m\u001b[0m\u001b[0;34m\u001b[0m\u001b[0m\n\u001b[0;32m---> 12\u001b[0;31m             \u001b[0mfutures\u001b[0m\u001b[0;34m.\u001b[0m\u001b[0mappend\u001b[0m\u001b[0;34m(\u001b[0m\u001b[0mfuture\u001b[0m\u001b[0;34m)\u001b[0m\u001b[0;34m\u001b[0m\u001b[0;34m\u001b[0m\u001b[0m\n\u001b[0m\u001b[1;32m     13\u001b[0m     \u001b[0mconcurrent\u001b[0m\u001b[0;34m.\u001b[0m\u001b[0mfutures\u001b[0m\u001b[0;34m.\u001b[0m\u001b[0mwait\u001b[0m\u001b[0;34m(\u001b[0m\u001b[0mfutures\u001b[0m\u001b[0;34m,\u001b[0m \u001b[0mtimeout\u001b[0m\u001b[0;34m=\u001b[0m\u001b[0;32mNone\u001b[0m\u001b[0;34m)\u001b[0m\u001b[0;34m\u001b[0m\u001b[0;34m\u001b[0m\u001b[0m\n\u001b[1;32m     14\u001b[0m     \u001b[0mdf_list\u001b[0m \u001b[0;34m=\u001b[0m \u001b[0;34m[\u001b[0m\u001b[0mfuture\u001b[0m\u001b[0;34m.\u001b[0m\u001b[0mresult\u001b[0m\u001b[0;34m(\u001b[0m\u001b[0;34m)\u001b[0m \u001b[0;32mfor\u001b[0m \u001b[0mfuture\u001b[0m \u001b[0;32min\u001b[0m \u001b[0mconcurrent\u001b[0m\u001b[0;34m.\u001b[0m\u001b[0mfutures\u001b[0m\u001b[0;34m.\u001b[0m\u001b[0mas_completed\u001b[0m\u001b[0;34m(\u001b[0m\u001b[0mfutures\u001b[0m\u001b[0;34m)\u001b[0m\u001b[0;34m]\u001b[0m\u001b[0;34m\u001b[0m\u001b[0;34m\u001b[0m\u001b[0m\n",
      "\u001b[0;32m/opt/conda/lib/python3.6/concurrent/futures/_base.py\u001b[0m in \u001b[0;36m__exit__\u001b[0;34m(self, exc_type, exc_val, exc_tb)\u001b[0m\n\u001b[1;32m    609\u001b[0m \u001b[0;34m\u001b[0m\u001b[0m\n\u001b[1;32m    610\u001b[0m     \u001b[0;32mdef\u001b[0m \u001b[0m__exit__\u001b[0m\u001b[0;34m(\u001b[0m\u001b[0mself\u001b[0m\u001b[0;34m,\u001b[0m \u001b[0mexc_type\u001b[0m\u001b[0;34m,\u001b[0m \u001b[0mexc_val\u001b[0m\u001b[0;34m,\u001b[0m \u001b[0mexc_tb\u001b[0m\u001b[0;34m)\u001b[0m\u001b[0;34m:\u001b[0m\u001b[0;34m\u001b[0m\u001b[0;34m\u001b[0m\u001b[0m\n\u001b[0;32m--> 611\u001b[0;31m         \u001b[0mself\u001b[0m\u001b[0;34m.\u001b[0m\u001b[0mshutdown\u001b[0m\u001b[0;34m(\u001b[0m\u001b[0mwait\u001b[0m\u001b[0;34m=\u001b[0m\u001b[0;32mTrue\u001b[0m\u001b[0;34m)\u001b[0m\u001b[0;34m\u001b[0m\u001b[0;34m\u001b[0m\u001b[0m\n\u001b[0m\u001b[1;32m    612\u001b[0m         \u001b[0;32mreturn\u001b[0m \u001b[0;32mFalse\u001b[0m\u001b[0;34m\u001b[0m\u001b[0;34m\u001b[0m\u001b[0m\n",
      "\u001b[0;32m/opt/conda/lib/python3.6/concurrent/futures/process.py\u001b[0m in \u001b[0;36mshutdown\u001b[0;34m(self, wait)\u001b[0m\n\u001b[1;32m    504\u001b[0m             \u001b[0mself\u001b[0m\u001b[0;34m.\u001b[0m\u001b[0m_result_queue\u001b[0m\u001b[0;34m.\u001b[0m\u001b[0mput\u001b[0m\u001b[0;34m(\u001b[0m\u001b[0;32mNone\u001b[0m\u001b[0;34m)\u001b[0m\u001b[0;34m\u001b[0m\u001b[0;34m\u001b[0m\u001b[0m\n\u001b[1;32m    505\u001b[0m             \u001b[0;32mif\u001b[0m \u001b[0mwait\u001b[0m\u001b[0;34m:\u001b[0m\u001b[0;34m\u001b[0m\u001b[0;34m\u001b[0m\u001b[0m\n\u001b[0;32m--> 506\u001b[0;31m                 \u001b[0mself\u001b[0m\u001b[0;34m.\u001b[0m\u001b[0m_queue_management_thread\u001b[0m\u001b[0;34m.\u001b[0m\u001b[0mjoin\u001b[0m\u001b[0;34m(\u001b[0m\u001b[0;34m)\u001b[0m\u001b[0;34m\u001b[0m\u001b[0;34m\u001b[0m\u001b[0m\n\u001b[0m\u001b[1;32m    507\u001b[0m         \u001b[0;31m# To reduce the risk of opening too many files, remove references to\u001b[0m\u001b[0;34m\u001b[0m\u001b[0;34m\u001b[0m\u001b[0;34m\u001b[0m\u001b[0m\n\u001b[1;32m    508\u001b[0m         \u001b[0;31m# objects that use file descriptors.\u001b[0m\u001b[0;34m\u001b[0m\u001b[0;34m\u001b[0m\u001b[0;34m\u001b[0m\u001b[0m\n",
      "\u001b[0;32m/opt/conda/lib/python3.6/threading.py\u001b[0m in \u001b[0;36mjoin\u001b[0;34m(self, timeout)\u001b[0m\n\u001b[1;32m   1054\u001b[0m \u001b[0;34m\u001b[0m\u001b[0m\n\u001b[1;32m   1055\u001b[0m         \u001b[0;32mif\u001b[0m \u001b[0mtimeout\u001b[0m \u001b[0;32mis\u001b[0m \u001b[0;32mNone\u001b[0m\u001b[0;34m:\u001b[0m\u001b[0;34m\u001b[0m\u001b[0;34m\u001b[0m\u001b[0m\n\u001b[0;32m-> 1056\u001b[0;31m             \u001b[0mself\u001b[0m\u001b[0;34m.\u001b[0m\u001b[0m_wait_for_tstate_lock\u001b[0m\u001b[0;34m(\u001b[0m\u001b[0;34m)\u001b[0m\u001b[0;34m\u001b[0m\u001b[0;34m\u001b[0m\u001b[0m\n\u001b[0m\u001b[1;32m   1057\u001b[0m         \u001b[0;32melse\u001b[0m\u001b[0;34m:\u001b[0m\u001b[0;34m\u001b[0m\u001b[0;34m\u001b[0m\u001b[0m\n\u001b[1;32m   1058\u001b[0m             \u001b[0;31m# the behavior of a negative timeout isn't documented, but\u001b[0m\u001b[0;34m\u001b[0m\u001b[0;34m\u001b[0m\u001b[0;34m\u001b[0m\u001b[0m\n",
      "\u001b[0;32m/opt/conda/lib/python3.6/threading.py\u001b[0m in \u001b[0;36m_wait_for_tstate_lock\u001b[0;34m(self, block, timeout)\u001b[0m\n\u001b[1;32m   1070\u001b[0m         \u001b[0;32mif\u001b[0m \u001b[0mlock\u001b[0m \u001b[0;32mis\u001b[0m \u001b[0;32mNone\u001b[0m\u001b[0;34m:\u001b[0m  \u001b[0;31m# already determined that the C code is done\u001b[0m\u001b[0;34m\u001b[0m\u001b[0;34m\u001b[0m\u001b[0m\n\u001b[1;32m   1071\u001b[0m             \u001b[0;32massert\u001b[0m \u001b[0mself\u001b[0m\u001b[0;34m.\u001b[0m\u001b[0m_is_stopped\u001b[0m\u001b[0;34m\u001b[0m\u001b[0;34m\u001b[0m\u001b[0m\n\u001b[0;32m-> 1072\u001b[0;31m         \u001b[0;32melif\u001b[0m \u001b[0mlock\u001b[0m\u001b[0;34m.\u001b[0m\u001b[0macquire\u001b[0m\u001b[0;34m(\u001b[0m\u001b[0mblock\u001b[0m\u001b[0;34m,\u001b[0m \u001b[0mtimeout\u001b[0m\u001b[0;34m)\u001b[0m\u001b[0;34m:\u001b[0m\u001b[0;34m\u001b[0m\u001b[0;34m\u001b[0m\u001b[0m\n\u001b[0m\u001b[1;32m   1073\u001b[0m             \u001b[0mlock\u001b[0m\u001b[0;34m.\u001b[0m\u001b[0mrelease\u001b[0m\u001b[0;34m(\u001b[0m\u001b[0;34m)\u001b[0m\u001b[0;34m\u001b[0m\u001b[0;34m\u001b[0m\u001b[0m\n\u001b[1;32m   1074\u001b[0m             \u001b[0mself\u001b[0m\u001b[0;34m.\u001b[0m\u001b[0m_stop\u001b[0m\u001b[0;34m(\u001b[0m\u001b[0;34m)\u001b[0m\u001b[0;34m\u001b[0m\u001b[0;34m\u001b[0m\u001b[0m\n",
      "\u001b[0;31mKeyboardInterrupt\u001b[0m: "
     ]
    }
   ],
   "source": [
    "df_org_train = read_csv_chunk(org_train_csv, df_all_classes)\n",
    "df_org_val = read_csv_chunk(org_val_csv, df_all_classes)\n",
    "df_org_test = read_csv_chunk(org_test_csv, df_all_classes)"
   ]
  },
  {
   "cell_type": "code",
   "execution_count": null,
   "metadata": {},
   "outputs": [],
   "source": [
    "display(df_org_train[\"ClassName\"].value_counts())\n",
    "display(df_org_train[\"ClassName\"].value_counts(normalize=True))\n",
    "print(f\"the number of images: {len(df_org_train.index.unique())}\")"
   ]
  },
  {
   "cell_type": "code",
   "execution_count": null,
   "metadata": {
    "collapsed": false,
    "jupyter": {
     "outputs_hidden": false
    },
    "pycharm": {
     "name": "#%%\n"
    }
   },
   "outputs": [],
   "source": [
    "display(df_org_val[\"ClassName\"].value_counts())\n",
    "display(df_org_val[\"ClassName\"].value_counts(normalize=True))\n",
    "print(f\"the number of images: {len(df_org_val.index.unique())}\")"
   ]
  },
  {
   "cell_type": "code",
   "execution_count": null,
   "metadata": {
    "collapsed": false,
    "jupyter": {
     "outputs_hidden": false
    },
    "pycharm": {
     "name": "#%%\n"
    }
   },
   "outputs": [],
   "source": [
    "display(df_org_test[\"ClassName\"].value_counts())\n",
    "display(df_org_test[\"ClassName\"].value_counts(normalize=True))\n",
    "print(f\"the number of images: {len(df_org_test.index.unique())}\")"
   ]
  },
  {
   "cell_type": "code",
   "execution_count": null,
   "metadata": {
    "collapsed": false,
    "jupyter": {
     "outputs_hidden": false
    },
    "pycharm": {
     "name": "#%%\n"
    }
   },
   "outputs": [],
   "source": [
    "sns.catplot(data=df, x=\"ClassName\", kind=\"count\")\n",
    "plt.show()"
   ]
  },
  {
   "cell_type": "code",
   "execution_count": 43,
   "metadata": {},
   "outputs": [
    {
     "data": {
      "text/plain": [
       "Wheel                         1999\n",
       "Car                           1470\n",
       "Tire                          1020\n",
       "Vehicle registration plate     987\n",
       "Human face                     675\n",
       "Land vehicle                   306\n",
       "Vehicle                        224\n",
       "Helmet                         131\n",
       "Sunglasses                     106\n",
       "Bicycle wheel                   59\n",
       "Taxi                            45\n",
       "Sun hat                         42\n",
       "Van                             30\n",
       "Bicycle helmet                  28\n",
       "Bicycle                         27\n",
       "Bus                             17\n",
       "Truck                           16\n",
       "Wheelchair                      15\n",
       "Motorcycle                      15\n",
       "Roller skates                   14\n",
       "Mobile phone                    11\n",
       "Traffic light                   10\n",
       "Ski                              9\n",
       "Hiking equipment                 9\n",
       "Boat                             7\n",
       "Office building                  7\n",
       "Street light                     5\n",
       "Billboard                        5\n",
       "Skateboard                       5\n",
       "Cart                             5\n",
       "Airplane                         4\n",
       "Surfboard                        4\n",
       "Limousine                        3\n",
       "Carnivore                        3\n",
       "Traffic sign                     3\n",
       "Snowboard                        3\n",
       "Canoe                            2\n",
       "Parking meter                    1\n",
       "Tree house                       1\n",
       "Helicopter                       1\n",
       "Ambulance                        1\n",
       "Name: ClassName, dtype: int64"
      ]
     },
     "metadata": {},
     "output_type": "display_data"
    },
    {
     "data": {
      "text/plain": [
       "Wheel                         0.272901\n",
       "Car                           0.200683\n",
       "Tire                          0.139249\n",
       "Vehicle registration plate    0.134744\n",
       "Human face                    0.092150\n",
       "Land vehicle                  0.041775\n",
       "Vehicle                       0.030580\n",
       "Helmet                        0.017884\n",
       "Sunglasses                    0.014471\n",
       "Bicycle wheel                 0.008055\n",
       "Taxi                          0.006143\n",
       "Sun hat                       0.005734\n",
       "Van                           0.004096\n",
       "Bicycle helmet                0.003823\n",
       "Bicycle                       0.003686\n",
       "Bus                           0.002321\n",
       "Truck                         0.002184\n",
       "Wheelchair                    0.002048\n",
       "Motorcycle                    0.002048\n",
       "Roller skates                 0.001911\n",
       "Mobile phone                  0.001502\n",
       "Traffic light                 0.001365\n",
       "Ski                           0.001229\n",
       "Hiking equipment              0.001229\n",
       "Boat                          0.000956\n",
       "Office building               0.000956\n",
       "Street light                  0.000683\n",
       "Billboard                     0.000683\n",
       "Skateboard                    0.000683\n",
       "Cart                          0.000683\n",
       "Airplane                      0.000546\n",
       "Surfboard                     0.000546\n",
       "Limousine                     0.000410\n",
       "Carnivore                     0.000410\n",
       "Traffic sign                  0.000410\n",
       "Snowboard                     0.000410\n",
       "Canoe                         0.000273\n",
       "Parking meter                 0.000137\n",
       "Tree house                    0.000137\n",
       "Helicopter                    0.000137\n",
       "Ambulance                     0.000137\n",
       "Name: ClassName, dtype: float64"
      ]
     },
     "metadata": {},
     "output_type": "display_data"
    },
    {
     "name": "stdout",
     "output_type": "stream",
     "text": [
      "the number of images: 7325\n"
     ]
    }
   ],
   "source": [
    "need_columns = [\"ImageID\", \"LabelName\"]\n",
    "df_org_train = pd.read_csv(org_train_csv, header=0, usecols=need_columns)\n",
    "df_org_train['ClassName'] = df_org_train['LabelName'].agg(\n",
    "    lambda x: df_all_classes.loc[df_all_classes[df_all_classes['LabelName'] == x].index[0], \"ClassName\"])"
   ]
  },
  {
   "cell_type": "code",
   "execution_count": null,
   "metadata": {},
   "outputs": [],
   "source": [
    "display(df_org_test[\"ClassName\"].value_counts())\n",
    "display(df_org_test[\"ClassName\"].value_counts(normalize=True))\n",
    "print(f\"the number of images: {len(df_org_test.index.unique())}\")"
   ]
  },
  {
   "cell_type": "code",
   "execution_count": 44,
   "metadata": {
    "collapsed": false,
    "jupyter": {
     "outputs_hidden": false
    },
    "pycharm": {
     "name": "#%%\n"
    }
   },
   "outputs": [
    {
     "data": {
      "image/png": "[encoded data removed]",
      "text/plain": [
       "<Figure size 360x360 with 1 Axes>"
      ]
     },
     "metadata": {
      "needs_background": "light"
     },
     "output_type": "display_data"
    }
   ],
   "source": [
    "sns.catplot(data=df, x=\"ClassName\", kind=\"count\")\n",
    "plt.show()"
   ]
  },
  {
   "cell_type": "code",
   "execution_count": null,
   "metadata": {},
   "outputs": [],
   "source": [
    "need_columns = [\"ImageID\", \"LabelName\"]\n",
    "df_org_train = pd.read_csv(org_train_csv, header=0, usecols=need_columns)\n",
    "df_org_train['ClassName'] = df_org_train['LabelName'].agg(\n",
    "    lambda x: df_all_classes.loc[df_all_classes[df_all_classes['LabelName'] == x].index[0], \"ClassName\"])"
   ]
  },
  {
   "cell_type": "code",
   "execution_count": null,
   "metadata": {},
   "outputs": [],
   "source": [
    "display(df_oid_all[\"ClassName\"].value_counts())\n",
    "display(df_oid_all[\"ClassName\"].value_counts(normalize=True))\n",
    "print(f\"the number of images: {len(df_oid_all.index.unique())}\")"
   ]
  },
  {
   "cell_type": "code",
   "execution_count": 14,
   "metadata": {},
   "outputs": [],
   "source": [
    "oid_train_csv = oid_path + '/oidv6-train-annotations-bbox_selected.csv'\n",
    "oid_val_csv = oid_path + '/validation-annotations-bbox_selected.csv'\n",
    "oid_test_csv = oid_path + '/test-annotations-bbox_selected.csv'"
   ]
  },
  {
   "cell_type": "code",
   "execution_count": null,
   "metadata": {},
   "outputs": [],
   "source": []
  },
  {
   "cell_type": "code",
   "execution_count": 27,
   "metadata": {},
   "outputs": [],
   "source": [
    "df_oid_train = pd.read_csv(oid_train_csv, header=0)\n",
    "df_oid_train['set'] = 'train'\n",
    "df_oid_val = pd.read_csv(oid_val_csv, header=0)\n",
    "df_oid_val['set'] = 'val'\n",
    "df_oid_test = pd.read_csv(oid_test_csv, header=0)\n",
    "df_oid_test['set'] = 'test'\n",
    "df_oid_all = pd.concat([df_oid_train, df_oid_val, df_oid_test])\n",
    "\n",
    "df_oid_all['ClassName'] = df_oid_all['LabelName'].agg(\n",
    "    lambda x: df_classes.loc[df_classes[df_classes['LabelName'] == x].index[0], \"ClassName\"])"
   ]
  },
  {
   "cell_type": "code",
   "execution_count": 28,
   "metadata": {},
   "outputs": [],
   "source": [
    "class_order = [\"Human face\", \"Vehicle registration plate\"]"
   ]
  },
  {
   "cell_type": "code",
   "execution_count": 29,
   "metadata": {},
   "outputs": [
    {
     "data": {
      "text/plain": [
       "Human face                    53393\n",
       "Vehicle registration plate    11682\n",
       "Name: ClassName, dtype: int64"
      ]
     },
     "metadata": {},
     "output_type": "display_data"
    },
    {
     "data": {
      "text/plain": [
       "Human face                    0.820484\n",
       "Vehicle registration plate    0.179516\n",
       "Name: ClassName, dtype: float64"
      ]
     },
     "metadata": {},
     "output_type": "display_data"
    },
    {
     "name": "stdout",
     "output_type": "stream",
     "text": [
      "the number of images: 28929\n"
     ]
    },
    {
     "data": {
      "image/png": "[encoded data removed]",
      "text/plain": [
       "<Figure size 360x360 with 1 Axes>"
      ]
     },
     "metadata": {
      "needs_background": "light"
     },
     "output_type": "display_data"
    }
   ],
   "source": [
    "df_oid_all = df_oid_all.set_index(\"ImageID\")\n",
    "display(df_oid_all[\"ClassName\"].value_counts())\n",
    "display(df_oid_all[\"ClassName\"].value_counts(normalize=True))\n",
    "print(f\"the number of images: {len(df_oid_all.index.unique())}\")\n",
    "sns.catplot(data=df_oid_all, x=\"ClassName\", kind=\"count\", order=class_order)\n",
    "plt.show()"
   ]
  },
  {
   "cell_type": "code",
   "execution_count": 30,
   "metadata": {},
   "outputs": [
    {
     "data": {
      "text/plain": [
       "Human face                    45043\n",
       "Vehicle registration plate     7852\n",
       "Name: ClassName, dtype: int64"
      ]
     },
     "metadata": {},
     "output_type": "display_data"
    },
    {
     "data": {
      "text/plain": [
       "Human face                    0.851555\n",
       "Vehicle registration plate    0.148445\n",
       "Name: ClassName, dtype: float64"
      ]
     },
     "metadata": {},
     "output_type": "display_data"
    },
    {
     "name": "stdout",
     "output_type": "stream",
     "text": [
      "the number of images: 22680\n"
     ]
    },
    {
     "data": {
      "image/png": "[encoded data removed]",
      "text/plain": [
       "<Figure size 360x360 with 1 Axes>"
      ]
     },
     "metadata": {
      "needs_background": "light"
     },
     "output_type": "display_data"
    }
   ],
   "source": [
    "df_oid_train = df_oid_all[df_oid_all[\"set\"] == \"train\"]\n",
    "display(df_oid_train[\"ClassName\"].value_counts())\n",
    "display(df_oid_train[\"ClassName\"].value_counts(normalize=True))\n",
    "print(f\"the number of images: {len(df_oid_train.index.unique())}\")\n",
    "sns.catplot(data=df_oid_train, x=\"ClassName\", kind=\"count\", order=class_order)\n",
    "plt.show()"
   ]
  },
  {
   "cell_type": "code",
   "execution_count": 31,
   "metadata": {},
   "outputs": [
    {
     "data": {
      "text/plain": [
       "Vehicle registration plate    987\n",
       "Human face                    460\n",
       "Name: ClassName, dtype: int64"
      ]
     },
     "metadata": {},
     "output_type": "display_data"
    },
    {
     "data": {
      "text/plain": [
       "Vehicle registration plate    0.682101\n",
       "Human face                    0.317899\n",
       "Name: ClassName, dtype: float64"
      ]
     },
     "metadata": {},
     "output_type": "display_data"
    },
    {
     "name": "stdout",
     "output_type": "stream",
     "text": [
      "the number of images: 966\n"
     ]
    },
    {
     "data": {
      "image/png": "[encoded data removed]",
      "text/plain": [
       "<Figure size 360x360 with 1 Axes>"
      ]
     },
     "metadata": {
      "needs_background": "light"
     },
     "output_type": "display_data"
    }
   ],
   "source": [
    "df_oid_val = df_oid_all[df_oid_all[\"set\"] == \"val\"]\n",
    "display(df_oid_val[\"ClassName\"].value_counts())\n",
    "display(df_oid_val[\"ClassName\"].value_counts(normalize=True))\n",
    "print(f\"the number of images: {len(df_oid_val.index.unique())}\")\n",
    "sns.catplot(data=df_oid_val, x=\"ClassName\", kind=\"count\", order=class_order)\n",
    "plt.show()"
   ]
  },
  {
   "cell_type": "code",
   "execution_count": 32,
   "metadata": {},
   "outputs": [
    {
     "data": {
      "text/plain": [
       "Human face                    45503\n",
       "Vehicle registration plate     8839\n",
       "Name: ClassName, dtype: int64"
      ]
     },
     "metadata": {},
     "output_type": "display_data"
    },
    {
     "data": {
      "text/plain": [
       "Human face                    0.837345\n",
       "Vehicle registration plate    0.162655\n",
       "Name: ClassName, dtype: float64"
      ]
     },
     "metadata": {},
     "output_type": "display_data"
    },
    {
     "name": "stdout",
     "output_type": "stream",
     "text": [
      "the number of images: 23646\n"
     ]
    },
    {
     "data": {
      "image/png": "[encoded data removed]",
      "text/plain": [
       "<Figure size 360x360 with 1 Axes>"
      ]
     },
     "metadata": {
      "needs_background": "light"
     },
     "output_type": "display_data"
    }
   ],
   "source": [
    "df_oid_train_val = pd.concat([df_oid_train, df_oid_val])\n",
    "display(df_oid_train_val[\"ClassName\"].value_counts())\n",
    "display(df_oid_train_val[\"ClassName\"].value_counts(normalize=True))\n",
    "print(f\"the number of images: {len(df_oid_train_val.index.unique())}\")\n",
    "sns.catplot(data=df_oid_train_val, x=\"ClassName\", kind=\"count\", order=class_order)\n",
    "plt.show()"
   ]
  },
  {
   "cell_type": "code",
   "execution_count": null,
   "metadata": {},
   "outputs": [],
   "source": []
  },
  {
   "cell_type": "code",
   "execution_count": 51,
   "metadata": {},
   "outputs": [
    {
     "data": {
      "text/plain": [
       "Human face                    7890\n",
       "Vehicle registration plate    2843\n",
       "Name: ClassName, dtype: int64"
      ]
     },
     "metadata": {},
     "output_type": "display_data"
    },
    {
     "data": {
      "text/plain": [
       "Human face                    0.735116\n",
       "Vehicle registration plate    0.264884\n",
       "Name: ClassName, dtype: float64"
      ]
     },
     "metadata": {},
     "output_type": "display_data"
    },
    {
     "name": "stdout",
     "output_type": "stream",
     "text": [
      "the number of images: 5283\n"
     ]
    },
    {
     "data": {
      "image/png": "[encoded data removed]",
      "text/plain": [
       "<Figure size 360x360 with 1 Axes>"
      ]
     },
     "metadata": {
      "needs_background": "light"
     },
     "output_type": "display_data"
    }
   ],
   "source": [
    "df_oid_test = df_oid_all[df_oid_all[\"set\"] == \"test\"]\n",
    "display(df_oid_test[\"ClassName\"].value_counts())\n",
    "display(df_oid_test[\"ClassName\"].value_counts(normalize=True))\n",
    "print(f\"the number of images: {len(df_oid_test.index.unique())}\")\n",
    "sns.catplot(data=df_oid_test, x=\"ClassName\", kind=\"count\", order=class_order)\n",
    "plt.show()"
   ]
  },
  {
   "cell_type": "code",
   "execution_count": 7,
   "metadata": {
    "collapsed": false,
    "jupyter": {
     "outputs_hidden": false
    },
    "pycharm": {
     "name": "#%%\n"
    }
   },
   "outputs": [],
   "source": [
    "def yolo_labels_to_dataframe(labels_path):\n",
    "    df_all = pd.DataFrame(data=None)\n",
    "    for label_path in labels_path:\n",
    "        image_id = os.path.splitext(os.path.basename(label_path))[0]\n",
    "        df = pd.read_csv(label_path, header=None, delimiter=' ', names=['class_index', 'x_center', 'y_center', 'width', 'height'])\n",
    "        df['image_id'] = image_id\n",
    "        df = df.set_index('image_id')\n",
    "        df_all = pd.concat([df_all, df])\n",
    "    return df_all\n",
    "\n",
    "def display_yolo_anntation(labels_dir):\n",
    "    labels_all_path = [p for p in glob.glob(labels_dir + '/**', recursive=True) if re.search('.txt', p)]\n",
    "    futures = []\n",
    "    with ProcessPoolExecutor(max_workers=os.cpu_count()) as executor:\n",
    "        for labels_path in chunked(labels_all_path, 500):\n",
    "            future = executor.submit(yolo_labels_to_dataframe, labels_path)\n",
    "            futures.append(future)\n",
    "    concurrent.futures.wait(futures, timeout=None)\n",
    "    df_list = [future.result() for future in concurrent.futures.as_completed(futures)]\n",
    "    df_all = pd.DataFrame(data=None)\n",
    "    for df in df_list:\n",
    "        df_all = pd.concat([df_all, df])\n",
    "    return df_all"
   ]
  },
  {
   "cell_type": "code",
   "execution_count": 8,
   "metadata": {
    "collapsed": false,
    "jupyter": {
     "outputs_hidden": false
    },
    "pycharm": {
     "name": "#%%\n"
    }
   },
   "outputs": [
    {
     "name": "stdout",
     "output_type": "stream",
     "text": [
      "the number of images: 28824\n"
     ]
    }
   ],
   "source": [
    "train_dir = \"yolo/labels/train\"\n",
    "df_train = display_yolo_anntation(train_dir)\n",
    "df_train['set'] = 'train'\n",
    "print(f\"the number of images: {len(df_train.index.unique())}\")"
   ]
  },
  {
   "cell_type": "code",
   "execution_count": 9,
   "metadata": {},
   "outputs": [],
   "source": [
    "val_dir = \"yolo/labels/val\"\n",
    "df_val = display_yolo_anntation(val_dir)\n",
    "df_val['set'] = 'val'"
   ]
  },
  {
   "cell_type": "code",
   "execution_count": 10,
   "metadata": {},
   "outputs": [],
   "source": [
    "test_dir = \"yolo/labels/test\"\n",
    "df_test = display_yolo_anntation(test_dir)\n",
    "df_test['set'] = 'test'"
   ]
  },
  {
   "cell_type": "code",
   "execution_count": 11,
   "metadata": {},
   "outputs": [],
   "source": [
    "class_order = [\"Human face\", \"Vehicle registration plate\"]"
   ]
  },
  {
   "cell_type": "code",
   "execution_count": 12,
   "metadata": {
    "collapsed": false,
    "jupyter": {
     "outputs_hidden": false
    },
    "pycharm": {
     "name": "#%%\n"
    }
   },
   "outputs": [
    {
     "data": {
      "text/plain": [
       "Human face                    77750\n",
       "Vehicle registration plate    11682\n",
       "Name: class_name, dtype: int64"
      ]
     },
     "metadata": {},
     "output_type": "display_data"
    },
    {
     "data": {
      "text/plain": [
       "Human face                    0.869376\n",
       "Vehicle registration plate    0.130624\n",
       "Name: class_name, dtype: float64"
      ]
     },
     "metadata": {},
     "output_type": "display_data"
    },
    {
     "name": "stdout",
     "output_type": "stream",
     "text": [
      "the number of images: 37310\n"
     ]
    },
    {
     "data": {
      "image/png": "[encoded data removed]",
      "text/plain": [
       "<Figure size 360x360 with 1 Axes>"
      ]
     },
     "metadata": {
      "needs_background": "light"
     },
     "output_type": "display_data"
    }
   ],
   "source": [
    "df_all = pd.concat([df_train, df_val, df_test])\n",
    "df_all.reset_index()\n",
    "df_all['class_name'] = df_all['class_index'].agg(lambda x: df_classes.loc[x, \"ClassName\"])\n",
    "display(df_all[\"class_name\"].value_counts())\n",
    "display(df_all[\"class_name\"].value_counts(normalize=True))\n",
    "print(f\"the number of images: {len(df_all.index.unique())}\")\n",
    "sns.catplot(data=df_all, x=\"class_name\", kind=\"count\", order=class_order)\n",
    "plt.show()"
   ]
  },
  {
   "cell_type": "code",
   "execution_count": 13,
   "metadata": {},
   "outputs": [
    {
     "data": {
      "text/plain": [
       "Human face                    62584\n",
       "Vehicle registration plate     8000\n",
       "Name: class_name, dtype: int64"
      ]
     },
     "metadata": {},
     "output_type": "display_data"
    },
    {
     "data": {
      "text/plain": [
       "Human face                    0.88666\n",
       "Vehicle registration plate    0.11334\n",
       "Name: class_name, dtype: float64"
      ]
     },
     "metadata": {},
     "output_type": "display_data"
    },
    {
     "name": "stdout",
     "output_type": "stream",
     "text": [
      "the number of images: 28824\n"
     ]
    },
    {
     "data": {
      "image/png": "[encoded data removed]",
      "text/plain": [
       "<Figure size 360x360 with 1 Axes>"
      ]
     },
     "metadata": {
      "needs_background": "light"
     },
     "output_type": "display_data"
    }
   ],
   "source": [
    "df_train = df_all[df_all[\"set\"] == \"train\"]\n",
    "display(df_train[\"class_name\"].value_counts())\n",
    "display(df_train[\"class_name\"].value_counts(normalize=True))\n",
    "print(f\"the number of images: {len(df_train.index.unique())}\")\n",
    "sns.catplot(data=df_train, x=\"class_name\", kind=\"count\", order=class_order)\n",
    "plt.show()"
   ]
  },
  {
   "cell_type": "code",
   "execution_count": 14,
   "metadata": {},
   "outputs": [
    {
     "data": {
      "text/plain": [
       "Human face                    7276\n",
       "Vehicle registration plate     839\n",
       "Name: class_name, dtype: int64"
      ]
     },
     "metadata": {},
     "output_type": "display_data"
    },
    {
     "data": {
      "text/plain": [
       "Human face                    0.896611\n",
       "Vehicle registration plate    0.103389\n",
       "Name: class_name, dtype: float64"
      ]
     },
     "metadata": {},
     "output_type": "display_data"
    },
    {
     "name": "stdout",
     "output_type": "stream",
     "text": [
      "the number of images: 3203\n"
     ]
    },
    {
     "data": {
      "image/png": "[encoded data removed]",
      "text/plain": [
       "<Figure size 360x360 with 1 Axes>"
      ]
     },
     "metadata": {
      "needs_background": "light"
     },
     "output_type": "display_data"
    }
   ],
   "source": [
    "df_val = df_all[df_all[\"set\"] == \"val\"]\n",
    "display(df_val[\"class_name\"].value_counts())\n",
    "display(df_val[\"class_name\"].value_counts(normalize=True))\n",
    "print(f\"the number of images: {len(df_val.index.unique())}\")\n",
    "sns.catplot(data=df_val, x=\"class_name\", kind=\"count\", order=class_order)\n",
    "plt.show()"
   ]
  },
  {
   "cell_type": "code",
   "execution_count": 15,
   "metadata": {},
   "outputs": [
    {
     "data": {
      "text/plain": [
       "Human face                    7890\n",
       "Vehicle registration plate    2843\n",
       "Name: class_name, dtype: int64"
      ]
     },
     "metadata": {},
     "output_type": "display_data"
    },
    {
     "data": {
      "text/plain": [
       "Human face                    0.735116\n",
       "Vehicle registration plate    0.264884\n",
       "Name: class_name, dtype: float64"
      ]
     },
     "metadata": {},
     "output_type": "display_data"
    },
    {
     "name": "stdout",
     "output_type": "stream",
     "text": [
      "the number of images: 5283\n"
     ]
    },
    {
     "data": {
      "image/png": "[encoded data removed]",
      "text/plain": [
       "<Figure size 360x360 with 1 Axes>"
      ]
     },
     "metadata": {
      "needs_background": "light"
     },
     "output_type": "display_data"
    }
   ],
   "source": [
    "df_test = df_all[df_all[\"set\"] == \"test\"]\n",
    "display(df_test[\"class_name\"].value_counts())\n",
    "display(df_test[\"class_name\"].value_counts(normalize=True))\n",
    "print(f\"the number of images: {len(df_test.index.unique())}\")\n",
    "sns.catplot(data = df_test, x = \"class_name\", kind=\"count\", order=class_order)\n",
    "plt.show()"
   ]
  },
  {
   "cell_type": "code",
   "execution_count": null,
   "metadata": {},
   "outputs": [],
   "source": []
  },
  {
   "cell_type": "code",
   "execution_count": null,
   "metadata": {},
   "outputs": [],
   "source": []
  }
 ],
 "metadata": {
  "kernelspec": {
   "display_name": "Python 3",
   "language": "python",
   "name": "python3"
  },
  "language_info": {
   "codemirror_mode": {
    "name": "ipython",
    "version": 3
   },
   "file_extension": ".py",
   "mimetype": "text/x-python",
   "name": "python",
   "nbconvert_exporter": "python",
   "pygments_lexer": "ipython3",
   "version": "3.6.9"
  }
 },
 "nbformat": 4,
 "nbformat_minor": 4
}
